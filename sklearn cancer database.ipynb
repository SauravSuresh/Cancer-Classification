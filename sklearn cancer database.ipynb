{
 "cells": [
  {
   "cell_type": "code",
   "execution_count": 1,
   "metadata": {},
   "outputs": [],
   "source": [
    "import pandas as pd\n",
    "import numpy as np\n",
    "import seaborn as sns\n",
    "import matplotlib.pyplot as plt\n",
    "%matplotlib inline"
   ]
  },
  {
   "cell_type": "code",
   "execution_count": 2,
   "metadata": {},
   "outputs": [],
   "source": [
    "from sklearn.datasets import load_breast_cancer"
   ]
  },
  {
   "cell_type": "code",
   "execution_count": 8,
   "metadata": {},
   "outputs": [],
   "source": [
    "cancer=load_breast_cancer()"
   ]
  },
  {
   "cell_type": "code",
   "execution_count": 15,
   "metadata": {},
   "outputs": [
    {
     "data": {
      "text/plain": [
       "dict_keys(['data', 'target', 'target_names', 'DESCR', 'feature_names', 'filename'])"
      ]
     },
     "execution_count": 15,
     "metadata": {},
     "output_type": "execute_result"
    }
   ],
   "source": [
    "cancer.keys()"
   ]
  },
  {
   "cell_type": "code",
   "execution_count": 12,
   "metadata": {},
   "outputs": [
    {
     "name": "stdout",
     "output_type": "stream",
     "text": [
      ".. _breast_cancer_dataset:\n",
      "\n",
      "Breast cancer wisconsin (diagnostic) dataset\n",
      "--------------------------------------------\n",
      "\n",
      "**Data Set Characteristics:**\n",
      "\n",
      "    :Number of Instances: 569\n",
      "\n",
      "    :Number of Attributes: 30 numeric, predictive attributes and the class\n",
      "\n",
      "    :Attribute Information:\n",
      "        - radius (mean of distances from center to points on the perimeter)\n",
      "        - texture (standard deviation of gray-scale values)\n",
      "        - perimeter\n",
      "        - area\n",
      "        - smoothness (local variation in radius lengths)\n",
      "        - compactness (perimeter^2 / area - 1.0)\n",
      "        - concavity (severity of concave portions of the contour)\n",
      "        - concave points (number of concave portions of the contour)\n",
      "        - symmetry \n",
      "        - fractal dimension (\"coastline approximation\" - 1)\n",
      "\n",
      "        The mean, standard error, and \"worst\" or largest (mean of the three\n",
      "        largest values) of these features were computed for each image,\n",
      "        resulting in 30 features.  For instance, field 3 is Mean Radius, field\n",
      "        13 is Radius SE, field 23 is Worst Radius.\n",
      "\n",
      "        - class:\n",
      "                - WDBC-Malignant\n",
      "                - WDBC-Benign\n",
      "\n",
      "    :Summary Statistics:\n",
      "\n",
      "    ===================================== ====== ======\n",
      "                                           Min    Max\n",
      "    ===================================== ====== ======\n",
      "    radius (mean):                        6.981  28.11\n",
      "    texture (mean):                       9.71   39.28\n",
      "    perimeter (mean):                     43.79  188.5\n",
      "    area (mean):                          143.5  2501.0\n",
      "    smoothness (mean):                    0.053  0.163\n",
      "    compactness (mean):                   0.019  0.345\n",
      "    concavity (mean):                     0.0    0.427\n",
      "    concave points (mean):                0.0    0.201\n",
      "    symmetry (mean):                      0.106  0.304\n",
      "    fractal dimension (mean):             0.05   0.097\n",
      "    radius (standard error):              0.112  2.873\n",
      "    texture (standard error):             0.36   4.885\n",
      "    perimeter (standard error):           0.757  21.98\n",
      "    area (standard error):                6.802  542.2\n",
      "    smoothness (standard error):          0.002  0.031\n",
      "    compactness (standard error):         0.002  0.135\n",
      "    concavity (standard error):           0.0    0.396\n",
      "    concave points (standard error):      0.0    0.053\n",
      "    symmetry (standard error):            0.008  0.079\n",
      "    fractal dimension (standard error):   0.001  0.03\n",
      "    radius (worst):                       7.93   36.04\n",
      "    texture (worst):                      12.02  49.54\n",
      "    perimeter (worst):                    50.41  251.2\n",
      "    area (worst):                         185.2  4254.0\n",
      "    smoothness (worst):                   0.071  0.223\n",
      "    compactness (worst):                  0.027  1.058\n",
      "    concavity (worst):                    0.0    1.252\n",
      "    concave points (worst):               0.0    0.291\n",
      "    symmetry (worst):                     0.156  0.664\n",
      "    fractal dimension (worst):            0.055  0.208\n",
      "    ===================================== ====== ======\n",
      "\n",
      "    :Missing Attribute Values: None\n",
      "\n",
      "    :Class Distribution: 212 - Malignant, 357 - Benign\n",
      "\n",
      "    :Creator:  Dr. William H. Wolberg, W. Nick Street, Olvi L. Mangasarian\n",
      "\n",
      "    :Donor: Nick Street\n",
      "\n",
      "    :Date: November, 1995\n",
      "\n",
      "This is a copy of UCI ML Breast Cancer Wisconsin (Diagnostic) datasets.\n",
      "https://goo.gl/U2Uwz2\n",
      "\n",
      "Features are computed from a digitized image of a fine needle\n",
      "aspirate (FNA) of a breast mass.  They describe\n",
      "characteristics of the cell nuclei present in the image.\n",
      "\n",
      "Separating plane described above was obtained using\n",
      "Multisurface Method-Tree (MSM-T) [K. P. Bennett, \"Decision Tree\n",
      "Construction Via Linear Programming.\" Proceedings of the 4th\n",
      "Midwest Artificial Intelligence and Cognitive Science Society,\n",
      "pp. 97-101, 1992], a classification method which uses linear\n",
      "programming to construct a decision tree.  Relevant features\n",
      "were selected using an exhaustive search in the space of 1-4\n",
      "features and 1-3 separating planes.\n",
      "\n",
      "The actual linear program used to obtain the separating plane\n",
      "in the 3-dimensional space is that described in:\n",
      "[K. P. Bennett and O. L. Mangasarian: \"Robust Linear\n",
      "Programming Discrimination of Two Linearly Inseparable Sets\",\n",
      "Optimization Methods and Software 1, 1992, 23-34].\n",
      "\n",
      "This database is also available through the UW CS ftp server:\n",
      "\n",
      "ftp ftp.cs.wisc.edu\n",
      "cd math-prog/cpo-dataset/machine-learn/WDBC/\n",
      "\n",
      ".. topic:: References\n",
      "\n",
      "   - W.N. Street, W.H. Wolberg and O.L. Mangasarian. Nuclear feature extraction \n",
      "     for breast tumor diagnosis. IS&T/SPIE 1993 International Symposium on \n",
      "     Electronic Imaging: Science and Technology, volume 1905, pages 861-870,\n",
      "     San Jose, CA, 1993.\n",
      "   - O.L. Mangasarian, W.N. Street and W.H. Wolberg. Breast cancer diagnosis and \n",
      "     prognosis via linear programming. Operations Research, 43(4), pages 570-577, \n",
      "     July-August 1995.\n",
      "   - W.H. Wolberg, W.N. Street, and O.L. Mangasarian. Machine learning techniques\n",
      "     to diagnose breast cancer from fine-needle aspirates. Cancer Letters 77 (1994) \n",
      "     163-171.\n"
     ]
    }
   ],
   "source": [
    "print(cancer['DESCR'])"
   ]
  },
  {
   "cell_type": "code",
   "execution_count": 18,
   "metadata": {},
   "outputs": [],
   "source": [
    "df=pd.DataFrame(data=cancer['data'],columns=cancer['feature_names'])"
   ]
  },
  {
   "cell_type": "code",
   "execution_count": 26,
   "metadata": {},
   "outputs": [
    {
     "data": {
      "text/html": [
       "<div>\n",
       "<style scoped>\n",
       "    .dataframe tbody tr th:only-of-type {\n",
       "        vertical-align: middle;\n",
       "    }\n",
       "\n",
       "    .dataframe tbody tr th {\n",
       "        vertical-align: top;\n",
       "    }\n",
       "\n",
       "    .dataframe thead th {\n",
       "        text-align: right;\n",
       "    }\n",
       "</style>\n",
       "<table border=\"1\" class=\"dataframe\">\n",
       "  <thead>\n",
       "    <tr style=\"text-align: right;\">\n",
       "      <th></th>\n",
       "      <th>mean radius</th>\n",
       "      <th>mean texture</th>\n",
       "      <th>mean perimeter</th>\n",
       "      <th>mean area</th>\n",
       "      <th>mean smoothness</th>\n",
       "      <th>mean compactness</th>\n",
       "      <th>mean concavity</th>\n",
       "      <th>mean concave points</th>\n",
       "      <th>mean symmetry</th>\n",
       "      <th>mean fractal dimension</th>\n",
       "      <th>...</th>\n",
       "      <th>worst radius</th>\n",
       "      <th>worst texture</th>\n",
       "      <th>worst perimeter</th>\n",
       "      <th>worst area</th>\n",
       "      <th>worst smoothness</th>\n",
       "      <th>worst compactness</th>\n",
       "      <th>worst concavity</th>\n",
       "      <th>worst concave points</th>\n",
       "      <th>worst symmetry</th>\n",
       "      <th>worst fractal dimension</th>\n",
       "    </tr>\n",
       "  </thead>\n",
       "  <tbody>\n",
       "    <tr>\n",
       "      <th>0</th>\n",
       "      <td>17.99</td>\n",
       "      <td>10.38</td>\n",
       "      <td>122.80</td>\n",
       "      <td>1001.0</td>\n",
       "      <td>0.11840</td>\n",
       "      <td>0.27760</td>\n",
       "      <td>0.3001</td>\n",
       "      <td>0.14710</td>\n",
       "      <td>0.2419</td>\n",
       "      <td>0.07871</td>\n",
       "      <td>...</td>\n",
       "      <td>25.38</td>\n",
       "      <td>17.33</td>\n",
       "      <td>184.60</td>\n",
       "      <td>2019.0</td>\n",
       "      <td>0.1622</td>\n",
       "      <td>0.6656</td>\n",
       "      <td>0.7119</td>\n",
       "      <td>0.2654</td>\n",
       "      <td>0.4601</td>\n",
       "      <td>0.11890</td>\n",
       "    </tr>\n",
       "    <tr>\n",
       "      <th>1</th>\n",
       "      <td>20.57</td>\n",
       "      <td>17.77</td>\n",
       "      <td>132.90</td>\n",
       "      <td>1326.0</td>\n",
       "      <td>0.08474</td>\n",
       "      <td>0.07864</td>\n",
       "      <td>0.0869</td>\n",
       "      <td>0.07017</td>\n",
       "      <td>0.1812</td>\n",
       "      <td>0.05667</td>\n",
       "      <td>...</td>\n",
       "      <td>24.99</td>\n",
       "      <td>23.41</td>\n",
       "      <td>158.80</td>\n",
       "      <td>1956.0</td>\n",
       "      <td>0.1238</td>\n",
       "      <td>0.1866</td>\n",
       "      <td>0.2416</td>\n",
       "      <td>0.1860</td>\n",
       "      <td>0.2750</td>\n",
       "      <td>0.08902</td>\n",
       "    </tr>\n",
       "    <tr>\n",
       "      <th>2</th>\n",
       "      <td>19.69</td>\n",
       "      <td>21.25</td>\n",
       "      <td>130.00</td>\n",
       "      <td>1203.0</td>\n",
       "      <td>0.10960</td>\n",
       "      <td>0.15990</td>\n",
       "      <td>0.1974</td>\n",
       "      <td>0.12790</td>\n",
       "      <td>0.2069</td>\n",
       "      <td>0.05999</td>\n",
       "      <td>...</td>\n",
       "      <td>23.57</td>\n",
       "      <td>25.53</td>\n",
       "      <td>152.50</td>\n",
       "      <td>1709.0</td>\n",
       "      <td>0.1444</td>\n",
       "      <td>0.4245</td>\n",
       "      <td>0.4504</td>\n",
       "      <td>0.2430</td>\n",
       "      <td>0.3613</td>\n",
       "      <td>0.08758</td>\n",
       "    </tr>\n",
       "    <tr>\n",
       "      <th>3</th>\n",
       "      <td>11.42</td>\n",
       "      <td>20.38</td>\n",
       "      <td>77.58</td>\n",
       "      <td>386.1</td>\n",
       "      <td>0.14250</td>\n",
       "      <td>0.28390</td>\n",
       "      <td>0.2414</td>\n",
       "      <td>0.10520</td>\n",
       "      <td>0.2597</td>\n",
       "      <td>0.09744</td>\n",
       "      <td>...</td>\n",
       "      <td>14.91</td>\n",
       "      <td>26.50</td>\n",
       "      <td>98.87</td>\n",
       "      <td>567.7</td>\n",
       "      <td>0.2098</td>\n",
       "      <td>0.8663</td>\n",
       "      <td>0.6869</td>\n",
       "      <td>0.2575</td>\n",
       "      <td>0.6638</td>\n",
       "      <td>0.17300</td>\n",
       "    </tr>\n",
       "    <tr>\n",
       "      <th>4</th>\n",
       "      <td>20.29</td>\n",
       "      <td>14.34</td>\n",
       "      <td>135.10</td>\n",
       "      <td>1297.0</td>\n",
       "      <td>0.10030</td>\n",
       "      <td>0.13280</td>\n",
       "      <td>0.1980</td>\n",
       "      <td>0.10430</td>\n",
       "      <td>0.1809</td>\n",
       "      <td>0.05883</td>\n",
       "      <td>...</td>\n",
       "      <td>22.54</td>\n",
       "      <td>16.67</td>\n",
       "      <td>152.20</td>\n",
       "      <td>1575.0</td>\n",
       "      <td>0.1374</td>\n",
       "      <td>0.2050</td>\n",
       "      <td>0.4000</td>\n",
       "      <td>0.1625</td>\n",
       "      <td>0.2364</td>\n",
       "      <td>0.07678</td>\n",
       "    </tr>\n",
       "  </tbody>\n",
       "</table>\n",
       "<p>5 rows × 30 columns</p>\n",
       "</div>"
      ],
      "text/plain": [
       "   mean radius  mean texture  mean perimeter  mean area  mean smoothness  \\\n",
       "0        17.99         10.38          122.80     1001.0          0.11840   \n",
       "1        20.57         17.77          132.90     1326.0          0.08474   \n",
       "2        19.69         21.25          130.00     1203.0          0.10960   \n",
       "3        11.42         20.38           77.58      386.1          0.14250   \n",
       "4        20.29         14.34          135.10     1297.0          0.10030   \n",
       "\n",
       "   mean compactness  mean concavity  mean concave points  mean symmetry  \\\n",
       "0           0.27760          0.3001              0.14710         0.2419   \n",
       "1           0.07864          0.0869              0.07017         0.1812   \n",
       "2           0.15990          0.1974              0.12790         0.2069   \n",
       "3           0.28390          0.2414              0.10520         0.2597   \n",
       "4           0.13280          0.1980              0.10430         0.1809   \n",
       "\n",
       "   mean fractal dimension  ...  worst radius  worst texture  worst perimeter  \\\n",
       "0                 0.07871  ...         25.38          17.33           184.60   \n",
       "1                 0.05667  ...         24.99          23.41           158.80   \n",
       "2                 0.05999  ...         23.57          25.53           152.50   \n",
       "3                 0.09744  ...         14.91          26.50            98.87   \n",
       "4                 0.05883  ...         22.54          16.67           152.20   \n",
       "\n",
       "   worst area  worst smoothness  worst compactness  worst concavity  \\\n",
       "0      2019.0            0.1622             0.6656           0.7119   \n",
       "1      1956.0            0.1238             0.1866           0.2416   \n",
       "2      1709.0            0.1444             0.4245           0.4504   \n",
       "3       567.7            0.2098             0.8663           0.6869   \n",
       "4      1575.0            0.1374             0.2050           0.4000   \n",
       "\n",
       "   worst concave points  worst symmetry  worst fractal dimension  \n",
       "0                0.2654          0.4601                  0.11890  \n",
       "1                0.1860          0.2750                  0.08902  \n",
       "2                0.2430          0.3613                  0.08758  \n",
       "3                0.2575          0.6638                  0.17300  \n",
       "4                0.1625          0.2364                  0.07678  \n",
       "\n",
       "[5 rows x 30 columns]"
      ]
     },
     "execution_count": 26,
     "metadata": {},
     "output_type": "execute_result"
    }
   ],
   "source": [
    "df.head()"
   ]
  },
  {
   "cell_type": "code",
   "execution_count": 31,
   "metadata": {},
   "outputs": [],
   "source": [
    "from sklearn.preprocessing import StandardScaler"
   ]
  },
  {
   "cell_type": "code",
   "execution_count": 32,
   "metadata": {},
   "outputs": [],
   "source": [
    "sc=StandardScaler()"
   ]
  },
  {
   "cell_type": "code",
   "execution_count": 33,
   "metadata": {},
   "outputs": [
    {
     "data": {
      "text/plain": [
       "StandardScaler(copy=True, with_mean=True, with_std=True)"
      ]
     },
     "execution_count": 33,
     "metadata": {},
     "output_type": "execute_result"
    }
   ],
   "source": [
    "sc.fit(df)"
   ]
  },
  {
   "cell_type": "code",
   "execution_count": 34,
   "metadata": {},
   "outputs": [],
   "source": [
    "scaled_Data=sc.transform(df)"
   ]
  },
  {
   "cell_type": "code",
   "execution_count": 35,
   "metadata": {},
   "outputs": [],
   "source": [
    "from sklearn.decomposition import PCA"
   ]
  },
  {
   "cell_type": "code",
   "execution_count": 38,
   "metadata": {},
   "outputs": [],
   "source": [
    "pca = PCA(n_components=2)"
   ]
  },
  {
   "cell_type": "code",
   "execution_count": 42,
   "metadata": {},
   "outputs": [
    {
     "data": {
      "text/plain": [
       "PCA(copy=True, iterated_power='auto', n_components=2, random_state=None,\n",
       "    svd_solver='auto', tol=0.0, whiten=False)"
      ]
     },
     "execution_count": 42,
     "metadata": {},
     "output_type": "execute_result"
    }
   ],
   "source": [
    "pca.fit(scaled_Data)"
   ]
  },
  {
   "cell_type": "code",
   "execution_count": 45,
   "metadata": {},
   "outputs": [],
   "source": [
    "x=pca.transform(scaled_Data)"
   ]
  },
  {
   "cell_type": "code",
   "execution_count": 47,
   "metadata": {},
   "outputs": [
    {
     "data": {
      "text/plain": [
       "(569, 2)"
      ]
     },
     "execution_count": 47,
     "metadata": {},
     "output_type": "execute_result"
    }
   ],
   "source": [
    "x.shape"
   ]
  },
  {
   "cell_type": "code",
   "execution_count": 49,
   "metadata": {},
   "outputs": [
    {
     "data": {
      "text/plain": [
       "<Figure size 720x504 with 0 Axes>"
      ]
     },
     "execution_count": 49,
     "metadata": {},
     "output_type": "execute_result"
    },
    {
     "data": {
      "text/plain": [
       "<Figure size 720x504 with 0 Axes>"
      ]
     },
     "metadata": {},
     "output_type": "display_data"
    }
   ],
   "source": [
    "plt.figure(figsize=(10,7))"
   ]
  },
  {
   "cell_type": "code",
   "execution_count": 51,
   "metadata": {},
   "outputs": [
    {
     "data": {
      "text/plain": [
       "<matplotlib.collections.PathCollection at 0x20f0060cd08>"
      ]
     },
     "execution_count": 51,
     "metadata": {},
     "output_type": "execute_result"
    },
    {
     "data": {
      "image/png": "[encoded data removed]",
      "text/plain": [
       "<Figure size 432x288 with 1 Axes>"
      ]
     },
     "metadata": {
      "needs_background": "light"
     },
     "output_type": "display_data"
    }
   ],
   "source": [
    "plt.scatter(x[:,0],x[:,1],c=cancer['target'])"
   ]
  },
  {
   "cell_type": "code",
   "execution_count": 52,
   "metadata": {},
   "outputs": [],
   "source": [
    "df=pd.DataFrame(data=x,columns=['first','second'])"
   ]
  },
  {
   "cell_type": "code",
   "execution_count": 57,
   "metadata": {},
   "outputs": [
    {
     "data": {
      "text/plain": [
       "array([[ 0.21890244,  0.10372458,  0.22753729,  0.22099499,  0.14258969,\n",
       "         0.23928535,  0.25840048,  0.26085376,  0.13816696,  0.06436335,\n",
       "         0.20597878,  0.01742803,  0.21132592,  0.20286964,  0.01453145,\n",
       "         0.17039345,  0.15358979,  0.1834174 ,  0.04249842,  0.10256832,\n",
       "         0.22799663,  0.10446933,  0.23663968,  0.22487053,  0.12795256,\n",
       "         0.21009588,  0.22876753,  0.25088597,  0.12290456,  0.13178394],\n",
       "       [-0.23385713, -0.05970609, -0.21518136, -0.23107671,  0.18611302,\n",
       "         0.15189161,  0.06016536, -0.0347675 ,  0.19034877,  0.36657547,\n",
       "        -0.10555215,  0.08997968, -0.08945723, -0.15229263,  0.20443045,\n",
       "         0.2327159 ,  0.19720728,  0.13032156,  0.183848  ,  0.28009203,\n",
       "        -0.21986638, -0.0454673 , -0.19987843, -0.21935186,  0.17230435,\n",
       "         0.14359317,  0.09796411, -0.00825724,  0.14188335,  0.27533947]])"
      ]
     },
     "execution_count": 57,
     "metadata": {},
     "output_type": "execute_result"
    }
   ],
   "source": [
    "pca.components_"
   ]
  },
  {
   "cell_type": "code",
   "execution_count": 58,
   "metadata": {},
   "outputs": [],
   "source": [
    "df_corr=pd.DataFrame(pca.components_,columns=cancer['feature_names'])"
   ]
  },
  {
   "cell_type": "code",
   "execution_count": 60,
   "metadata": {},
   "outputs": [
    {
     "data": {
      "text/html": [
       "<div>\n",
       "<style scoped>\n",
       "    .dataframe tbody tr th:only-of-type {\n",
       "        vertical-align: middle;\n",
       "    }\n",
       "\n",
       "    .dataframe tbody tr th {\n",
       "        vertical-align: top;\n",
       "    }\n",
       "\n",
       "    .dataframe thead th {\n",
       "        text-align: right;\n",
       "    }\n",
       "</style>\n",
       "<table border=\"1\" class=\"dataframe\">\n",
       "  <thead>\n",
       "    <tr style=\"text-align: right;\">\n",
       "      <th></th>\n",
       "      <th>mean radius</th>\n",
       "      <th>mean texture</th>\n",
       "      <th>mean perimeter</th>\n",
       "      <th>mean area</th>\n",
       "      <th>mean smoothness</th>\n",
       "      <th>mean compactness</th>\n",
       "      <th>mean concavity</th>\n",
       "      <th>mean concave points</th>\n",
       "      <th>mean symmetry</th>\n",
       "      <th>mean fractal dimension</th>\n",
       "      <th>...</th>\n",
       "      <th>worst radius</th>\n",
       "      <th>worst texture</th>\n",
       "      <th>worst perimeter</th>\n",
       "      <th>worst area</th>\n",
       "      <th>worst smoothness</th>\n",
       "      <th>worst compactness</th>\n",
       "      <th>worst concavity</th>\n",
       "      <th>worst concave points</th>\n",
       "      <th>worst symmetry</th>\n",
       "      <th>worst fractal dimension</th>\n",
       "    </tr>\n",
       "  </thead>\n",
       "  <tbody>\n",
       "    <tr>\n",
       "      <th>0</th>\n",
       "      <td>0.218902</td>\n",
       "      <td>0.103725</td>\n",
       "      <td>0.227537</td>\n",
       "      <td>0.220995</td>\n",
       "      <td>0.142590</td>\n",
       "      <td>0.239285</td>\n",
       "      <td>0.258400</td>\n",
       "      <td>0.260854</td>\n",
       "      <td>0.138167</td>\n",
       "      <td>0.064363</td>\n",
       "      <td>...</td>\n",
       "      <td>0.227997</td>\n",
       "      <td>0.104469</td>\n",
       "      <td>0.236640</td>\n",
       "      <td>0.224871</td>\n",
       "      <td>0.127953</td>\n",
       "      <td>0.210096</td>\n",
       "      <td>0.228768</td>\n",
       "      <td>0.250886</td>\n",
       "      <td>0.122905</td>\n",
       "      <td>0.131784</td>\n",
       "    </tr>\n",
       "    <tr>\n",
       "      <th>1</th>\n",
       "      <td>-0.233857</td>\n",
       "      <td>-0.059706</td>\n",
       "      <td>-0.215181</td>\n",
       "      <td>-0.231077</td>\n",
       "      <td>0.186113</td>\n",
       "      <td>0.151892</td>\n",
       "      <td>0.060165</td>\n",
       "      <td>-0.034768</td>\n",
       "      <td>0.190349</td>\n",
       "      <td>0.366575</td>\n",
       "      <td>...</td>\n",
       "      <td>-0.219866</td>\n",
       "      <td>-0.045467</td>\n",
       "      <td>-0.199878</td>\n",
       "      <td>-0.219352</td>\n",
       "      <td>0.172304</td>\n",
       "      <td>0.143593</td>\n",
       "      <td>0.097964</td>\n",
       "      <td>-0.008257</td>\n",
       "      <td>0.141883</td>\n",
       "      <td>0.275339</td>\n",
       "    </tr>\n",
       "  </tbody>\n",
       "</table>\n",
       "<p>2 rows × 30 columns</p>\n",
       "</div>"
      ],
      "text/plain": [
       "   mean radius  mean texture  mean perimeter  mean area  mean smoothness  \\\n",
       "0     0.218902      0.103725        0.227537   0.220995         0.142590   \n",
       "1    -0.233857     -0.059706       -0.215181  -0.231077         0.186113   \n",
       "\n",
       "   mean compactness  mean concavity  mean concave points  mean symmetry  \\\n",
       "0          0.239285        0.258400             0.260854       0.138167   \n",
       "1          0.151892        0.060165            -0.034768       0.190349   \n",
       "\n",
       "   mean fractal dimension  ...  worst radius  worst texture  worst perimeter  \\\n",
       "0                0.064363  ...      0.227997       0.104469         0.236640   \n",
       "1                0.366575  ...     -0.219866      -0.045467        -0.199878   \n",
       "\n",
       "   worst area  worst smoothness  worst compactness  worst concavity  \\\n",
       "0    0.224871          0.127953           0.210096         0.228768   \n",
       "1   -0.219352          0.172304           0.143593         0.097964   \n",
       "\n",
       "   worst concave points  worst symmetry  worst fractal dimension  \n",
       "0              0.250886        0.122905                 0.131784  \n",
       "1             -0.008257        0.141883                 0.275339  \n",
       "\n",
       "[2 rows x 30 columns]"
      ]
     },
     "execution_count": 60,
     "metadata": {},
     "output_type": "execute_result"
    }
   ],
   "source": [
    "df_corr"
   ]
  },
  {
   "cell_type": "code",
   "execution_count": 62,
   "metadata": {},
   "outputs": [
    {
     "data": {
      "text/plain": [
       "<matplotlib.axes._subplots.AxesSubplot at 0x20f008aba48>"
      ]
     },
     "execution_count": 62,
     "metadata": {},
     "output_type": "execute_result"
    },
    {
     "data": {
      "image/png": "[encoded data removed]",
      "text/plain": [
       "<Figure size 720x720 with 2 Axes>"
      ]
     },
     "metadata": {
      "needs_background": "light"
     },
     "output_type": "display_data"
    }
   ],
   "source": [
    "plt.figure(figsize=(10,10))\n",
    "sns.heatmap(df_corr)"
   ]
  },
  {
   "cell_type": "code",
   "execution_count": 64,
   "metadata": {},
   "outputs": [],
   "source": [
    "df_decomposed=df"
   ]
  },
  {
   "cell_type": "code",
   "execution_count": 66,
   "metadata": {},
   "outputs": [
    {
     "data": {
      "text/html": [
       "<div>\n",
       "<style scoped>\n",
       "    .dataframe tbody tr th:only-of-type {\n",
       "        vertical-align: middle;\n",
       "    }\n",
       "\n",
       "    .dataframe tbody tr th {\n",
       "        vertical-align: top;\n",
       "    }\n",
       "\n",
       "    .dataframe thead th {\n",
       "        text-align: right;\n",
       "    }\n",
       "</style>\n",
       "<table border=\"1\" class=\"dataframe\">\n",
       "  <thead>\n",
       "    <tr style=\"text-align: right;\">\n",
       "      <th></th>\n",
       "      <th>first</th>\n",
       "      <th>second</th>\n",
       "    </tr>\n",
       "  </thead>\n",
       "  <tbody>\n",
       "    <tr>\n",
       "      <th>0</th>\n",
       "      <td>9.192837</td>\n",
       "      <td>1.948583</td>\n",
       "    </tr>\n",
       "    <tr>\n",
       "      <th>1</th>\n",
       "      <td>2.387802</td>\n",
       "      <td>-3.768172</td>\n",
       "    </tr>\n",
       "    <tr>\n",
       "      <th>2</th>\n",
       "      <td>5.733896</td>\n",
       "      <td>-1.075174</td>\n",
       "    </tr>\n",
       "    <tr>\n",
       "      <th>3</th>\n",
       "      <td>7.122953</td>\n",
       "      <td>10.275589</td>\n",
       "    </tr>\n",
       "    <tr>\n",
       "      <th>4</th>\n",
       "      <td>3.935302</td>\n",
       "      <td>-1.948072</td>\n",
       "    </tr>\n",
       "  </tbody>\n",
       "</table>\n",
       "</div>"
      ],
      "text/plain": [
       "      first     second\n",
       "0  9.192837   1.948583\n",
       "1  2.387802  -3.768172\n",
       "2  5.733896  -1.075174\n",
       "3  7.122953  10.275589\n",
       "4  3.935302  -1.948072"
      ]
     },
     "execution_count": 66,
     "metadata": {},
     "output_type": "execute_result"
    }
   ],
   "source": [
    "df_decomposed.head()"
   ]
  },
  {
   "cell_type": "code",
   "execution_count": 79,
   "metadata": {},
   "outputs": [],
   "source": [
    "from sklearn.ensemble import RandomForestClassifier"
   ]
  },
  {
   "cell_type": "code",
   "execution_count": 83,
   "metadata": {},
   "outputs": [],
   "source": [
    "rfc=RandomForestClassifier(n_estimators=200)"
   ]
  },
  {
   "cell_type": "code",
   "execution_count": 84,
   "metadata": {},
   "outputs": [],
   "source": [
    "y=cancer['target']"
   ]
  },
  {
   "cell_type": "code",
   "execution_count": 85,
   "metadata": {},
   "outputs": [],
   "source": [
    "X=df_decomposed"
   ]
  },
  {
   "cell_type": "code",
   "execution_count": 86,
   "metadata": {},
   "outputs": [],
   "source": [
    "from sklearn.model_selection import train_test_split"
   ]
  },
  {
   "cell_type": "code",
   "execution_count": 87,
   "metadata": {},
   "outputs": [],
   "source": [
    "X_train, X_test, y_train, y_test = train_test_split( X, y, test_size=0.33, random_state=42)"
   ]
  },
  {
   "cell_type": "code",
   "execution_count": 110,
   "metadata": {},
   "outputs": [],
   "source": [
    "from sklearn.model_selection import GridSearchCV"
   ]
  },
  {
   "cell_type": "code",
   "execution_count": 111,
   "metadata": {},
   "outputs": [],
   "source": [
    "param_grid = { \n",
    "    'n_estimators': [200, 500],\n",
    "    'max_features': ['auto', 'sqrt', 'log2'],\n",
    "    'max_depth' : [4,5,6,7,8],\n",
    "    'criterion' :['gini', 'entropy']\n",
    "}"
   ]
  },
  {
   "cell_type": "code",
   "execution_count": 114,
   "metadata": {},
   "outputs": [],
   "source": [
    "gscv=GridSearchCV(estimator=rfc,param_grid=param_grid,verbose=3)"
   ]
  },
  {
   "cell_type": "code",
   "execution_count": 115,
   "metadata": {},
   "outputs": [
    {
     "name": "stdout",
     "output_type": "stream",
     "text": [
      "Fitting 5 folds for each of 60 candidates, totalling 300 fits\n",
      "[CV] criterion=gini, max_depth=4, max_features=auto, n_estimators=200 \n"
     ]
    },
    {
     "name": "stderr",
     "output_type": "stream",
     "text": [
      "[Parallel(n_jobs=1)]: Using backend SequentialBackend with 1 concurrent workers.\n"
     ]
    },
    {
     "name": "stdout",
     "output_type": "stream",
     "text": [
      "[CV]  criterion=gini, max_depth=4, max_features=auto, n_estimators=200, score=0.974, total=   0.3s\n",
      "[CV] criterion=gini, max_depth=4, max_features=auto, n_estimators=200 \n"
     ]
    },
    {
     "name": "stderr",
     "output_type": "stream",
     "text": [
      "[Parallel(n_jobs=1)]: Done   1 out of   1 | elapsed:    0.2s remaining:    0.0s\n"
     ]
    },
    {
     "name": "stdout",
     "output_type": "stream",
     "text": [
      "[CV]  criterion=gini, max_depth=4, max_features=auto, n_estimators=200, score=0.934, total=   0.3s\n",
      "[CV] criterion=gini, max_depth=4, max_features=auto, n_estimators=200 \n"
     ]
    },
    {
     "name": "stderr",
     "output_type": "stream",
     "text": [
      "[Parallel(n_jobs=1)]: Done   2 out of   2 | elapsed:    0.4s remaining:    0.0s\n"
     ]
    },
    {
     "name": "stdout",
     "output_type": "stream",
     "text": [
      "[CV]  criterion=gini, max_depth=4, max_features=auto, n_estimators=200, score=0.908, total=   0.3s\n",
      "[CV] criterion=gini, max_depth=4, max_features=auto, n_estimators=200 \n",
      "[CV]  criterion=gini, max_depth=4, max_features=auto, n_estimators=200, score=0.934, total=   0.3s\n",
      "[CV] criterion=gini, max_depth=4, max_features=auto, n_estimators=200 \n",
      "[CV]  criterion=gini, max_depth=4, max_features=auto, n_estimators=200, score=0.908, total=   0.3s\n",
      "[CV] criterion=gini, max_depth=4, max_features=auto, n_estimators=500 \n",
      "[CV]  criterion=gini, max_depth=4, max_features=auto, n_estimators=500, score=0.974, total=   0.7s\n",
      "[CV] criterion=gini, max_depth=4, max_features=auto, n_estimators=500 \n",
      "[CV]  criterion=gini, max_depth=4, max_features=auto, n_estimators=500, score=0.921, total=   0.6s\n",
      "[CV] criterion=gini, max_depth=4, max_features=auto, n_estimators=500 \n",
      "[CV]  criterion=gini, max_depth=4, max_features=auto, n_estimators=500, score=0.908, total=   0.6s\n",
      "[CV] criterion=gini, max_depth=4, max_features=auto, n_estimators=500 \n",
      "[CV]  criterion=gini, max_depth=4, max_features=auto, n_estimators=500, score=0.921, total=   0.6s\n",
      "[CV] criterion=gini, max_depth=4, max_features=auto, n_estimators=500 \n",
      "[CV]  criterion=gini, max_depth=4, max_features=auto, n_estimators=500, score=0.908, total=   0.6s\n",
      "[CV] criterion=gini, max_depth=4, max_features=sqrt, n_estimators=200 \n",
      "[CV]  criterion=gini, max_depth=4, max_features=sqrt, n_estimators=200, score=0.974, total=   0.2s\n",
      "[CV] criterion=gini, max_depth=4, max_features=sqrt, n_estimators=200 \n",
      "[CV]  criterion=gini, max_depth=4, max_features=sqrt, n_estimators=200, score=0.921, total=   0.2s\n",
      "[CV] criterion=gini, max_depth=4, max_features=sqrt, n_estimators=200 \n",
      "[CV]  criterion=gini, max_depth=4, max_features=sqrt, n_estimators=200, score=0.908, total=   0.3s\n",
      "[CV] criterion=gini, max_depth=4, max_features=sqrt, n_estimators=200 \n",
      "[CV]  criterion=gini, max_depth=4, max_features=sqrt, n_estimators=200, score=0.934, total=   0.3s\n",
      "[CV] criterion=gini, max_depth=4, max_features=sqrt, n_estimators=200 \n",
      "[CV]  criterion=gini, max_depth=4, max_features=sqrt, n_estimators=200, score=0.921, total=   0.3s\n",
      "[CV] criterion=gini, max_depth=4, max_features=sqrt, n_estimators=500 \n",
      "[CV]  criterion=gini, max_depth=4, max_features=sqrt, n_estimators=500, score=0.974, total=   0.6s\n",
      "[CV] criterion=gini, max_depth=4, max_features=sqrt, n_estimators=500 \n",
      "[CV]  criterion=gini, max_depth=4, max_features=sqrt, n_estimators=500, score=0.921, total=   0.6s\n",
      "[CV] criterion=gini, max_depth=4, max_features=sqrt, n_estimators=500 \n",
      "[CV]  criterion=gini, max_depth=4, max_features=sqrt, n_estimators=500, score=0.908, total=   0.7s\n",
      "[CV] criterion=gini, max_depth=4, max_features=sqrt, n_estimators=500 \n",
      "[CV]  criterion=gini, max_depth=4, max_features=sqrt, n_estimators=500, score=0.934, total=   0.6s\n",
      "[CV] criterion=gini, max_depth=4, max_features=sqrt, n_estimators=500 \n",
      "[CV]  criterion=gini, max_depth=4, max_features=sqrt, n_estimators=500, score=0.895, total=   0.7s\n",
      "[CV] criterion=gini, max_depth=4, max_features=log2, n_estimators=200 \n",
      "[CV]  criterion=gini, max_depth=4, max_features=log2, n_estimators=200, score=0.974, total=   0.3s\n",
      "[CV] criterion=gini, max_depth=4, max_features=log2, n_estimators=200 \n",
      "[CV]  criterion=gini, max_depth=4, max_features=log2, n_estimators=200, score=0.921, total=   0.2s\n",
      "[CV] criterion=gini, max_depth=4, max_features=log2, n_estimators=200 \n",
      "[CV]  criterion=gini, max_depth=4, max_features=log2, n_estimators=200, score=0.895, total=   0.2s\n",
      "[CV] criterion=gini, max_depth=4, max_features=log2, n_estimators=200 \n",
      "[CV]  criterion=gini, max_depth=4, max_features=log2, n_estimators=200, score=0.921, total=   0.3s\n",
      "[CV] criterion=gini, max_depth=4, max_features=log2, n_estimators=200 \n",
      "[CV]  criterion=gini, max_depth=4, max_features=log2, n_estimators=200, score=0.908, total=   0.3s\n",
      "[CV] criterion=gini, max_depth=4, max_features=log2, n_estimators=500 \n",
      "[CV]  criterion=gini, max_depth=4, max_features=log2, n_estimators=500, score=0.974, total=   0.7s\n",
      "[CV] criterion=gini, max_depth=4, max_features=log2, n_estimators=500 \n",
      "[CV]  criterion=gini, max_depth=4, max_features=log2, n_estimators=500, score=0.934, total=   0.6s\n",
      "[CV] criterion=gini, max_depth=4, max_features=log2, n_estimators=500 \n",
      "[CV]  criterion=gini, max_depth=4, max_features=log2, n_estimators=500, score=0.908, total=   0.6s\n",
      "[CV] criterion=gini, max_depth=4, max_features=log2, n_estimators=500 \n",
      "[CV]  criterion=gini, max_depth=4, max_features=log2, n_estimators=500, score=0.921, total=   0.6s\n",
      "[CV] criterion=gini, max_depth=4, max_features=log2, n_estimators=500 \n",
      "[CV]  criterion=gini, max_depth=4, max_features=log2, n_estimators=500, score=0.908, total=   0.7s\n",
      "[CV] criterion=gini, max_depth=5, max_features=auto, n_estimators=200 \n",
      "[CV]  criterion=gini, max_depth=5, max_features=auto, n_estimators=200, score=0.974, total=   0.3s\n",
      "[CV] criterion=gini, max_depth=5, max_features=auto, n_estimators=200 \n",
      "[CV]  criterion=gini, max_depth=5, max_features=auto, n_estimators=200, score=0.934, total=   0.3s\n",
      "[CV] criterion=gini, max_depth=5, max_features=auto, n_estimators=200 \n",
      "[CV]  criterion=gini, max_depth=5, max_features=auto, n_estimators=200, score=0.921, total=   0.3s\n",
      "[CV] criterion=gini, max_depth=5, max_features=auto, n_estimators=200 \n",
      "[CV]  criterion=gini, max_depth=5, max_features=auto, n_estimators=200, score=0.921, total=   0.3s\n",
      "[CV] criterion=gini, max_depth=5, max_features=auto, n_estimators=200 \n",
      "[CV]  criterion=gini, max_depth=5, max_features=auto, n_estimators=200, score=0.934, total=   0.2s\n",
      "[CV] criterion=gini, max_depth=5, max_features=auto, n_estimators=500 \n",
      "[CV]  criterion=gini, max_depth=5, max_features=auto, n_estimators=500, score=0.974, total=   0.6s\n",
      "[CV] criterion=gini, max_depth=5, max_features=auto, n_estimators=500 \n",
      "[CV]  criterion=gini, max_depth=5, max_features=auto, n_estimators=500, score=0.934, total=   0.6s\n",
      "[CV] criterion=gini, max_depth=5, max_features=auto, n_estimators=500 \n",
      "[CV]  criterion=gini, max_depth=5, max_features=auto, n_estimators=500, score=0.895, total=   0.7s\n",
      "[CV] criterion=gini, max_depth=5, max_features=auto, n_estimators=500 \n",
      "[CV]  criterion=gini, max_depth=5, max_features=auto, n_estimators=500, score=0.921, total=   0.7s\n",
      "[CV] criterion=gini, max_depth=5, max_features=auto, n_estimators=500 \n",
      "[CV]  criterion=gini, max_depth=5, max_features=auto, n_estimators=500, score=0.921, total=   0.7s\n",
      "[CV] criterion=gini, max_depth=5, max_features=sqrt, n_estimators=200 \n",
      "[CV]  criterion=gini, max_depth=5, max_features=sqrt, n_estimators=200, score=0.974, total=   0.2s\n",
      "[CV] criterion=gini, max_depth=5, max_features=sqrt, n_estimators=200 \n",
      "[CV]  criterion=gini, max_depth=5, max_features=sqrt, n_estimators=200, score=0.947, total=   0.2s\n",
      "[CV] criterion=gini, max_depth=5, max_features=sqrt, n_estimators=200 \n",
      "[CV]  criterion=gini, max_depth=5, max_features=sqrt, n_estimators=200, score=0.895, total=   0.2s\n",
      "[CV] criterion=gini, max_depth=5, max_features=sqrt, n_estimators=200 \n",
      "[CV]  criterion=gini, max_depth=5, max_features=sqrt, n_estimators=200, score=0.921, total=   0.2s\n",
      "[CV] criterion=gini, max_depth=5, max_features=sqrt, n_estimators=200 \n",
      "[CV]  criterion=gini, max_depth=5, max_features=sqrt, n_estimators=200, score=0.934, total=   0.2s\n",
      "[CV] criterion=gini, max_depth=5, max_features=sqrt, n_estimators=500 \n",
      "[CV]  criterion=gini, max_depth=5, max_features=sqrt, n_estimators=500, score=0.974, total=   0.6s\n",
      "[CV] criterion=gini, max_depth=5, max_features=sqrt, n_estimators=500 \n",
      "[CV]  criterion=gini, max_depth=5, max_features=sqrt, n_estimators=500, score=0.947, total=   0.6s\n",
      "[CV] criterion=gini, max_depth=5, max_features=sqrt, n_estimators=500 \n",
      "[CV]  criterion=gini, max_depth=5, max_features=sqrt, n_estimators=500, score=0.908, total=   0.6s\n",
      "[CV] criterion=gini, max_depth=5, max_features=sqrt, n_estimators=500 \n",
      "[CV]  criterion=gini, max_depth=5, max_features=sqrt, n_estimators=500, score=0.921, total=   0.6s\n",
      "[CV] criterion=gini, max_depth=5, max_features=sqrt, n_estimators=500 \n",
      "[CV]  criterion=gini, max_depth=5, max_features=sqrt, n_estimators=500, score=0.947, total=   0.6s\n",
      "[CV] criterion=gini, max_depth=5, max_features=log2, n_estimators=200 \n",
      "[CV]  criterion=gini, max_depth=5, max_features=log2, n_estimators=200, score=0.974, total=   0.2s\n",
      "[CV] criterion=gini, max_depth=5, max_features=log2, n_estimators=200 \n",
      "[CV]  criterion=gini, max_depth=5, max_features=log2, n_estimators=200, score=0.934, total=   0.2s\n",
      "[CV] criterion=gini, max_depth=5, max_features=log2, n_estimators=200 \n",
      "[CV]  criterion=gini, max_depth=5, max_features=log2, n_estimators=200, score=0.895, total=   0.3s\n",
      "[CV] criterion=gini, max_depth=5, max_features=log2, n_estimators=200 \n",
      "[CV]  criterion=gini, max_depth=5, max_features=log2, n_estimators=200, score=0.921, total=   0.2s\n",
      "[CV] criterion=gini, max_depth=5, max_features=log2, n_estimators=200 \n",
      "[CV]  criterion=gini, max_depth=5, max_features=log2, n_estimators=200, score=0.921, total=   0.2s\n",
      "[CV] criterion=gini, max_depth=5, max_features=log2, n_estimators=500 \n",
      "[CV]  criterion=gini, max_depth=5, max_features=log2, n_estimators=500, score=0.961, total=   0.6s\n",
      "[CV] criterion=gini, max_depth=5, max_features=log2, n_estimators=500 \n",
      "[CV]  criterion=gini, max_depth=5, max_features=log2, n_estimators=500, score=0.934, total=   0.6s\n",
      "[CV] criterion=gini, max_depth=5, max_features=log2, n_estimators=500 \n",
      "[CV]  criterion=gini, max_depth=5, max_features=log2, n_estimators=500, score=0.908, total=   0.6s\n",
      "[CV] criterion=gini, max_depth=5, max_features=log2, n_estimators=500 \n",
      "[CV]  criterion=gini, max_depth=5, max_features=log2, n_estimators=500, score=0.921, total=   0.6s\n",
      "[CV] criterion=gini, max_depth=5, max_features=log2, n_estimators=500 \n",
      "[CV]  criterion=gini, max_depth=5, max_features=log2, n_estimators=500, score=0.934, total=   0.6s\n",
      "[CV] criterion=gini, max_depth=6, max_features=auto, n_estimators=200 \n",
      "[CV]  criterion=gini, max_depth=6, max_features=auto, n_estimators=200, score=0.961, total=   0.2s\n",
      "[CV] criterion=gini, max_depth=6, max_features=auto, n_estimators=200 \n",
      "[CV]  criterion=gini, max_depth=6, max_features=auto, n_estimators=200, score=0.934, total=   0.2s\n",
      "[CV] criterion=gini, max_depth=6, max_features=auto, n_estimators=200 \n",
      "[CV]  criterion=gini, max_depth=6, max_features=auto, n_estimators=200, score=0.895, total=   0.2s\n",
      "[CV] criterion=gini, max_depth=6, max_features=auto, n_estimators=200 \n",
      "[CV]  criterion=gini, max_depth=6, max_features=auto, n_estimators=200, score=0.921, total=   0.2s\n",
      "[CV] criterion=gini, max_depth=6, max_features=auto, n_estimators=200 \n",
      "[CV]  criterion=gini, max_depth=6, max_features=auto, n_estimators=200, score=0.947, total=   0.2s\n",
      "[CV] criterion=gini, max_depth=6, max_features=auto, n_estimators=500 \n",
      "[CV]  criterion=gini, max_depth=6, max_features=auto, n_estimators=500, score=0.961, total=   0.6s\n",
      "[CV] criterion=gini, max_depth=6, max_features=auto, n_estimators=500 \n",
      "[CV]  criterion=gini, max_depth=6, max_features=auto, n_estimators=500, score=0.947, total=   0.6s\n",
      "[CV] criterion=gini, max_depth=6, max_features=auto, n_estimators=500 \n",
      "[CV]  criterion=gini, max_depth=6, max_features=auto, n_estimators=500, score=0.908, total=   0.6s\n",
      "[CV] criterion=gini, max_depth=6, max_features=auto, n_estimators=500 \n",
      "[CV]  criterion=gini, max_depth=6, max_features=auto, n_estimators=500, score=0.921, total=   0.7s\n",
      "[CV] criterion=gini, max_depth=6, max_features=auto, n_estimators=500 \n",
      "[CV]  criterion=gini, max_depth=6, max_features=auto, n_estimators=500, score=0.934, total=   0.7s\n",
      "[CV] criterion=gini, max_depth=6, max_features=sqrt, n_estimators=200 \n",
      "[CV]  criterion=gini, max_depth=6, max_features=sqrt, n_estimators=200, score=0.974, total=   0.2s\n",
      "[CV] criterion=gini, max_depth=6, max_features=sqrt, n_estimators=200 \n",
      "[CV]  criterion=gini, max_depth=6, max_features=sqrt, n_estimators=200, score=0.934, total=   0.2s\n",
      "[CV] criterion=gini, max_depth=6, max_features=sqrt, n_estimators=200 \n",
      "[CV]  criterion=gini, max_depth=6, max_features=sqrt, n_estimators=200, score=0.895, total=   0.2s\n",
      "[CV] criterion=gini, max_depth=6, max_features=sqrt, n_estimators=200 \n",
      "[CV]  criterion=gini, max_depth=6, max_features=sqrt, n_estimators=200, score=0.921, total=   0.2s\n",
      "[CV] criterion=gini, max_depth=6, max_features=sqrt, n_estimators=200 \n",
      "[CV]  criterion=gini, max_depth=6, max_features=sqrt, n_estimators=200, score=0.947, total=   0.2s\n",
      "[CV] criterion=gini, max_depth=6, max_features=sqrt, n_estimators=500 \n",
      "[CV]  criterion=gini, max_depth=6, max_features=sqrt, n_estimators=500, score=0.948, total=   0.6s\n",
      "[CV] criterion=gini, max_depth=6, max_features=sqrt, n_estimators=500 \n",
      "[CV]  criterion=gini, max_depth=6, max_features=sqrt, n_estimators=500, score=0.947, total=   0.6s\n",
      "[CV] criterion=gini, max_depth=6, max_features=sqrt, n_estimators=500 \n",
      "[CV]  criterion=gini, max_depth=6, max_features=sqrt, n_estimators=500, score=0.908, total=   0.6s\n",
      "[CV] criterion=gini, max_depth=6, max_features=sqrt, n_estimators=500 \n",
      "[CV]  criterion=gini, max_depth=6, max_features=sqrt, n_estimators=500, score=0.921, total=   0.6s\n",
      "[CV] criterion=gini, max_depth=6, max_features=sqrt, n_estimators=500 \n",
      "[CV]  criterion=gini, max_depth=6, max_features=sqrt, n_estimators=500, score=0.934, total=   0.6s\n",
      "[CV] criterion=gini, max_depth=6, max_features=log2, n_estimators=200 \n",
      "[CV]  criterion=gini, max_depth=6, max_features=log2, n_estimators=200, score=0.948, total=   0.2s\n",
      "[CV] criterion=gini, max_depth=6, max_features=log2, n_estimators=200 \n",
      "[CV]  criterion=gini, max_depth=6, max_features=log2, n_estimators=200, score=0.947, total=   0.2s\n",
      "[CV] criterion=gini, max_depth=6, max_features=log2, n_estimators=200 \n",
      "[CV]  criterion=gini, max_depth=6, max_features=log2, n_estimators=200, score=0.908, total=   0.2s\n",
      "[CV] criterion=gini, max_depth=6, max_features=log2, n_estimators=200 \n",
      "[CV]  criterion=gini, max_depth=6, max_features=log2, n_estimators=200, score=0.921, total=   0.3s\n",
      "[CV] criterion=gini, max_depth=6, max_features=log2, n_estimators=200 \n",
      "[CV]  criterion=gini, max_depth=6, max_features=log2, n_estimators=200, score=0.947, total=   0.2s\n",
      "[CV] criterion=gini, max_depth=6, max_features=log2, n_estimators=500 \n",
      "[CV]  criterion=gini, max_depth=6, max_features=log2, n_estimators=500, score=0.974, total=   0.6s\n",
      "[CV] criterion=gini, max_depth=6, max_features=log2, n_estimators=500 \n",
      "[CV]  criterion=gini, max_depth=6, max_features=log2, n_estimators=500, score=0.947, total=   0.6s\n",
      "[CV] criterion=gini, max_depth=6, max_features=log2, n_estimators=500 \n",
      "[CV]  criterion=gini, max_depth=6, max_features=log2, n_estimators=500, score=0.895, total=   0.7s\n",
      "[CV] criterion=gini, max_depth=6, max_features=log2, n_estimators=500 \n",
      "[CV]  criterion=gini, max_depth=6, max_features=log2, n_estimators=500, score=0.921, total=   0.6s\n",
      "[CV] criterion=gini, max_depth=6, max_features=log2, n_estimators=500 \n",
      "[CV]  criterion=gini, max_depth=6, max_features=log2, n_estimators=500, score=0.947, total=   0.6s\n",
      "[CV] criterion=gini, max_depth=7, max_features=auto, n_estimators=200 \n",
      "[CV]  criterion=gini, max_depth=7, max_features=auto, n_estimators=200, score=0.961, total=   0.2s\n",
      "[CV] criterion=gini, max_depth=7, max_features=auto, n_estimators=200 \n",
      "[CV]  criterion=gini, max_depth=7, max_features=auto, n_estimators=200, score=0.934, total=   0.2s\n",
      "[CV] criterion=gini, max_depth=7, max_features=auto, n_estimators=200 \n",
      "[CV]  criterion=gini, max_depth=7, max_features=auto, n_estimators=200, score=0.908, total=   0.2s\n",
      "[CV] criterion=gini, max_depth=7, max_features=auto, n_estimators=200 \n",
      "[CV]  criterion=gini, max_depth=7, max_features=auto, n_estimators=200, score=0.921, total=   0.2s\n",
      "[CV] criterion=gini, max_depth=7, max_features=auto, n_estimators=200 \n",
      "[CV]  criterion=gini, max_depth=7, max_features=auto, n_estimators=200, score=0.947, total=   0.3s\n",
      "[CV] criterion=gini, max_depth=7, max_features=auto, n_estimators=500 \n",
      "[CV]  criterion=gini, max_depth=7, max_features=auto, n_estimators=500, score=0.961, total=   0.6s\n",
      "[CV] criterion=gini, max_depth=7, max_features=auto, n_estimators=500 \n",
      "[CV]  criterion=gini, max_depth=7, max_features=auto, n_estimators=500, score=0.934, total=   0.6s\n",
      "[CV] criterion=gini, max_depth=7, max_features=auto, n_estimators=500 \n",
      "[CV]  criterion=gini, max_depth=7, max_features=auto, n_estimators=500, score=0.895, total=   0.6s\n",
      "[CV] criterion=gini, max_depth=7, max_features=auto, n_estimators=500 \n",
      "[CV]  criterion=gini, max_depth=7, max_features=auto, n_estimators=500, score=0.921, total=   0.6s\n",
      "[CV] criterion=gini, max_depth=7, max_features=auto, n_estimators=500 \n",
      "[CV]  criterion=gini, max_depth=7, max_features=auto, n_estimators=500, score=0.947, total=   0.6s\n",
      "[CV] criterion=gini, max_depth=7, max_features=sqrt, n_estimators=200 \n",
      "[CV]  criterion=gini, max_depth=7, max_features=sqrt, n_estimators=200, score=0.961, total=   0.2s\n",
      "[CV] criterion=gini, max_depth=7, max_features=sqrt, n_estimators=200 \n",
      "[CV]  criterion=gini, max_depth=7, max_features=sqrt, n_estimators=200, score=0.921, total=   0.2s\n",
      "[CV] criterion=gini, max_depth=7, max_features=sqrt, n_estimators=200 \n",
      "[CV]  criterion=gini, max_depth=7, max_features=sqrt, n_estimators=200, score=0.908, total=   0.3s\n",
      "[CV] criterion=gini, max_depth=7, max_features=sqrt, n_estimators=200 \n",
      "[CV]  criterion=gini, max_depth=7, max_features=sqrt, n_estimators=200, score=0.921, total=   0.3s\n",
      "[CV] criterion=gini, max_depth=7, max_features=sqrt, n_estimators=200 \n",
      "[CV]  criterion=gini, max_depth=7, max_features=sqrt, n_estimators=200, score=0.947, total=   0.2s\n",
      "[CV] criterion=gini, max_depth=7, max_features=sqrt, n_estimators=500 \n",
      "[CV]  criterion=gini, max_depth=7, max_features=sqrt, n_estimators=500, score=0.948, total=   0.7s\n",
      "[CV] criterion=gini, max_depth=7, max_features=sqrt, n_estimators=500 \n",
      "[CV]  criterion=gini, max_depth=7, max_features=sqrt, n_estimators=500, score=0.934, total=   0.6s\n",
      "[CV] criterion=gini, max_depth=7, max_features=sqrt, n_estimators=500 \n",
      "[CV]  criterion=gini, max_depth=7, max_features=sqrt, n_estimators=500, score=0.895, total=   0.6s\n",
      "[CV] criterion=gini, max_depth=7, max_features=sqrt, n_estimators=500 \n",
      "[CV]  criterion=gini, max_depth=7, max_features=sqrt, n_estimators=500, score=0.921, total=   0.6s\n",
      "[CV] criterion=gini, max_depth=7, max_features=sqrt, n_estimators=500 \n",
      "[CV]  criterion=gini, max_depth=7, max_features=sqrt, n_estimators=500, score=0.947, total=   0.6s\n",
      "[CV] criterion=gini, max_depth=7, max_features=log2, n_estimators=200 \n",
      "[CV]  criterion=gini, max_depth=7, max_features=log2, n_estimators=200, score=0.961, total=   0.2s\n",
      "[CV] criterion=gini, max_depth=7, max_features=log2, n_estimators=200 \n",
      "[CV]  criterion=gini, max_depth=7, max_features=log2, n_estimators=200, score=0.934, total=   0.2s\n",
      "[CV] criterion=gini, max_depth=7, max_features=log2, n_estimators=200 \n",
      "[CV]  criterion=gini, max_depth=7, max_features=log2, n_estimators=200, score=0.908, total=   0.2s\n",
      "[CV] criterion=gini, max_depth=7, max_features=log2, n_estimators=200 \n",
      "[CV]  criterion=gini, max_depth=7, max_features=log2, n_estimators=200, score=0.921, total=   0.2s\n",
      "[CV] criterion=gini, max_depth=7, max_features=log2, n_estimators=200 \n",
      "[CV]  criterion=gini, max_depth=7, max_features=log2, n_estimators=200, score=0.947, total=   0.3s\n",
      "[CV] criterion=gini, max_depth=7, max_features=log2, n_estimators=500 \n",
      "[CV]  criterion=gini, max_depth=7, max_features=log2, n_estimators=500, score=0.974, total=   0.6s\n",
      "[CV] criterion=gini, max_depth=7, max_features=log2, n_estimators=500 \n",
      "[CV]  criterion=gini, max_depth=7, max_features=log2, n_estimators=500, score=0.934, total=   0.6s\n",
      "[CV] criterion=gini, max_depth=7, max_features=log2, n_estimators=500 \n",
      "[CV]  criterion=gini, max_depth=7, max_features=log2, n_estimators=500, score=0.895, total=   0.6s\n",
      "[CV] criterion=gini, max_depth=7, max_features=log2, n_estimators=500 \n",
      "[CV]  criterion=gini, max_depth=7, max_features=log2, n_estimators=500, score=0.921, total=   0.6s\n",
      "[CV] criterion=gini, max_depth=7, max_features=log2, n_estimators=500 \n",
      "[CV]  criterion=gini, max_depth=7, max_features=log2, n_estimators=500, score=0.947, total=   0.6s\n",
      "[CV] criterion=gini, max_depth=8, max_features=auto, n_estimators=200 \n",
      "[CV]  criterion=gini, max_depth=8, max_features=auto, n_estimators=200, score=0.948, total=   0.3s\n",
      "[CV] criterion=gini, max_depth=8, max_features=auto, n_estimators=200 \n",
      "[CV]  criterion=gini, max_depth=8, max_features=auto, n_estimators=200, score=0.934, total=   0.3s\n",
      "[CV] criterion=gini, max_depth=8, max_features=auto, n_estimators=200 \n",
      "[CV]  criterion=gini, max_depth=8, max_features=auto, n_estimators=200, score=0.908, total=   0.2s\n",
      "[CV] criterion=gini, max_depth=8, max_features=auto, n_estimators=200 \n",
      "[CV]  criterion=gini, max_depth=8, max_features=auto, n_estimators=200, score=0.921, total=   0.3s\n",
      "[CV] criterion=gini, max_depth=8, max_features=auto, n_estimators=200 \n",
      "[CV]  criterion=gini, max_depth=8, max_features=auto, n_estimators=200, score=0.947, total=   0.3s\n",
      "[CV] criterion=gini, max_depth=8, max_features=auto, n_estimators=500 \n",
      "[CV]  criterion=gini, max_depth=8, max_features=auto, n_estimators=500, score=0.961, total=   0.6s\n",
      "[CV] criterion=gini, max_depth=8, max_features=auto, n_estimators=500 \n",
      "[CV]  criterion=gini, max_depth=8, max_features=auto, n_estimators=500, score=0.934, total=   0.6s\n",
      "[CV] criterion=gini, max_depth=8, max_features=auto, n_estimators=500 \n",
      "[CV]  criterion=gini, max_depth=8, max_features=auto, n_estimators=500, score=0.895, total=   0.6s\n",
      "[CV] criterion=gini, max_depth=8, max_features=auto, n_estimators=500 \n",
      "[CV]  criterion=gini, max_depth=8, max_features=auto, n_estimators=500, score=0.921, total=   0.6s\n",
      "[CV] criterion=gini, max_depth=8, max_features=auto, n_estimators=500 \n",
      "[CV]  criterion=gini, max_depth=8, max_features=auto, n_estimators=500, score=0.947, total=   0.6s\n",
      "[CV] criterion=gini, max_depth=8, max_features=sqrt, n_estimators=200 \n",
      "[CV]  criterion=gini, max_depth=8, max_features=sqrt, n_estimators=200, score=0.974, total=   0.2s\n",
      "[CV] criterion=gini, max_depth=8, max_features=sqrt, n_estimators=200 \n",
      "[CV]  criterion=gini, max_depth=8, max_features=sqrt, n_estimators=200, score=0.934, total=   0.2s\n",
      "[CV] criterion=gini, max_depth=8, max_features=sqrt, n_estimators=200 \n",
      "[CV]  criterion=gini, max_depth=8, max_features=sqrt, n_estimators=200, score=0.908, total=   0.2s\n",
      "[CV] criterion=gini, max_depth=8, max_features=sqrt, n_estimators=200 \n",
      "[CV]  criterion=gini, max_depth=8, max_features=sqrt, n_estimators=200, score=0.921, total=   0.2s\n",
      "[CV] criterion=gini, max_depth=8, max_features=sqrt, n_estimators=200 \n",
      "[CV]  criterion=gini, max_depth=8, max_features=sqrt, n_estimators=200, score=0.947, total=   0.3s\n",
      "[CV] criterion=gini, max_depth=8, max_features=sqrt, n_estimators=500 \n",
      "[CV]  criterion=gini, max_depth=8, max_features=sqrt, n_estimators=500, score=0.961, total=   0.6s\n",
      "[CV] criterion=gini, max_depth=8, max_features=sqrt, n_estimators=500 \n",
      "[CV]  criterion=gini, max_depth=8, max_features=sqrt, n_estimators=500, score=0.934, total=   0.6s\n",
      "[CV] criterion=gini, max_depth=8, max_features=sqrt, n_estimators=500 \n",
      "[CV]  criterion=gini, max_depth=8, max_features=sqrt, n_estimators=500, score=0.895, total=   0.6s\n",
      "[CV] criterion=gini, max_depth=8, max_features=sqrt, n_estimators=500 \n",
      "[CV]  criterion=gini, max_depth=8, max_features=sqrt, n_estimators=500, score=0.921, total=   0.6s\n",
      "[CV] criterion=gini, max_depth=8, max_features=sqrt, n_estimators=500 \n",
      "[CV]  criterion=gini, max_depth=8, max_features=sqrt, n_estimators=500, score=0.961, total=   0.7s\n",
      "[CV] criterion=gini, max_depth=8, max_features=log2, n_estimators=200 \n",
      "[CV]  criterion=gini, max_depth=8, max_features=log2, n_estimators=200, score=0.974, total=   0.3s\n",
      "[CV] criterion=gini, max_depth=8, max_features=log2, n_estimators=200 \n",
      "[CV]  criterion=gini, max_depth=8, max_features=log2, n_estimators=200, score=0.934, total=   0.3s\n",
      "[CV] criterion=gini, max_depth=8, max_features=log2, n_estimators=200 \n",
      "[CV]  criterion=gini, max_depth=8, max_features=log2, n_estimators=200, score=0.908, total=   0.3s\n",
      "[CV] criterion=gini, max_depth=8, max_features=log2, n_estimators=200 \n",
      "[CV]  criterion=gini, max_depth=8, max_features=log2, n_estimators=200, score=0.921, total=   0.2s\n",
      "[CV] criterion=gini, max_depth=8, max_features=log2, n_estimators=200 \n",
      "[CV]  criterion=gini, max_depth=8, max_features=log2, n_estimators=200, score=0.947, total=   0.2s\n",
      "[CV] criterion=gini, max_depth=8, max_features=log2, n_estimators=500 \n",
      "[CV]  criterion=gini, max_depth=8, max_features=log2, n_estimators=500, score=0.974, total=   0.6s\n",
      "[CV] criterion=gini, max_depth=8, max_features=log2, n_estimators=500 \n",
      "[CV]  criterion=gini, max_depth=8, max_features=log2, n_estimators=500, score=0.921, total=   0.6s\n",
      "[CV] criterion=gini, max_depth=8, max_features=log2, n_estimators=500 \n",
      "[CV]  criterion=gini, max_depth=8, max_features=log2, n_estimators=500, score=0.895, total=   0.6s\n",
      "[CV] criterion=gini, max_depth=8, max_features=log2, n_estimators=500 \n",
      "[CV]  criterion=gini, max_depth=8, max_features=log2, n_estimators=500, score=0.921, total=   0.6s\n",
      "[CV] criterion=gini, max_depth=8, max_features=log2, n_estimators=500 \n",
      "[CV]  criterion=gini, max_depth=8, max_features=log2, n_estimators=500, score=0.947, total=   0.6s\n",
      "[CV] criterion=entropy, max_depth=4, max_features=auto, n_estimators=200 \n",
      "[CV]  criterion=entropy, max_depth=4, max_features=auto, n_estimators=200, score=0.974, total=   0.3s\n",
      "[CV] criterion=entropy, max_depth=4, max_features=auto, n_estimators=200 \n",
      "[CV]  criterion=entropy, max_depth=4, max_features=auto, n_estimators=200, score=0.947, total=   0.3s\n",
      "[CV] criterion=entropy, max_depth=4, max_features=auto, n_estimators=200 \n",
      "[CV]  criterion=entropy, max_depth=4, max_features=auto, n_estimators=200, score=0.921, total=   0.3s\n",
      "[CV] criterion=entropy, max_depth=4, max_features=auto, n_estimators=200 \n",
      "[CV]  criterion=entropy, max_depth=4, max_features=auto, n_estimators=200, score=0.921, total=   0.3s\n",
      "[CV] criterion=entropy, max_depth=4, max_features=auto, n_estimators=200 \n",
      "[CV]  criterion=entropy, max_depth=4, max_features=auto, n_estimators=200, score=0.895, total=   0.3s\n",
      "[CV] criterion=entropy, max_depth=4, max_features=auto, n_estimators=500 \n",
      "[CV]  criterion=entropy, max_depth=4, max_features=auto, n_estimators=500, score=0.974, total=   0.6s\n",
      "[CV] criterion=entropy, max_depth=4, max_features=auto, n_estimators=500 \n",
      "[CV]  criterion=entropy, max_depth=4, max_features=auto, n_estimators=500, score=0.921, total=   0.6s\n",
      "[CV] criterion=entropy, max_depth=4, max_features=auto, n_estimators=500 \n",
      "[CV]  criterion=entropy, max_depth=4, max_features=auto, n_estimators=500, score=0.921, total=   0.6s\n",
      "[CV] criterion=entropy, max_depth=4, max_features=auto, n_estimators=500 \n",
      "[CV]  criterion=entropy, max_depth=4, max_features=auto, n_estimators=500, score=0.921, total=   0.6s\n",
      "[CV] criterion=entropy, max_depth=4, max_features=auto, n_estimators=500 \n",
      "[CV]  criterion=entropy, max_depth=4, max_features=auto, n_estimators=500, score=0.908, total=   0.6s\n",
      "[CV] criterion=entropy, max_depth=4, max_features=sqrt, n_estimators=200 \n",
      "[CV]  criterion=entropy, max_depth=4, max_features=sqrt, n_estimators=200, score=0.974, total=   0.2s\n",
      "[CV] criterion=entropy, max_depth=4, max_features=sqrt, n_estimators=200 \n",
      "[CV]  criterion=entropy, max_depth=4, max_features=sqrt, n_estimators=200, score=0.934, total=   0.2s\n",
      "[CV] criterion=entropy, max_depth=4, max_features=sqrt, n_estimators=200 \n",
      "[CV]  criterion=entropy, max_depth=4, max_features=sqrt, n_estimators=200, score=0.921, total=   0.3s\n",
      "[CV] criterion=entropy, max_depth=4, max_features=sqrt, n_estimators=200 \n",
      "[CV]  criterion=entropy, max_depth=4, max_features=sqrt, n_estimators=200, score=0.921, total=   0.3s\n",
      "[CV] criterion=entropy, max_depth=4, max_features=sqrt, n_estimators=200 \n",
      "[CV]  criterion=entropy, max_depth=4, max_features=sqrt, n_estimators=200, score=0.895, total=   0.2s\n",
      "[CV] criterion=entropy, max_depth=4, max_features=sqrt, n_estimators=500 \n",
      "[CV]  criterion=entropy, max_depth=4, max_features=sqrt, n_estimators=500, score=0.974, total=   0.6s\n",
      "[CV] criterion=entropy, max_depth=4, max_features=sqrt, n_estimators=500 \n",
      "[CV]  criterion=entropy, max_depth=4, max_features=sqrt, n_estimators=500, score=0.934, total=   0.6s\n",
      "[CV] criterion=entropy, max_depth=4, max_features=sqrt, n_estimators=500 \n",
      "[CV]  criterion=entropy, max_depth=4, max_features=sqrt, n_estimators=500, score=0.908, total=   0.6s\n",
      "[CV] criterion=entropy, max_depth=4, max_features=sqrt, n_estimators=500 \n",
      "[CV]  criterion=entropy, max_depth=4, max_features=sqrt, n_estimators=500, score=0.921, total=   0.6s\n",
      "[CV] criterion=entropy, max_depth=4, max_features=sqrt, n_estimators=500 \n",
      "[CV]  criterion=entropy, max_depth=4, max_features=sqrt, n_estimators=500, score=0.908, total=   0.6s\n",
      "[CV] criterion=entropy, max_depth=4, max_features=log2, n_estimators=200 \n",
      "[CV]  criterion=entropy, max_depth=4, max_features=log2, n_estimators=200, score=0.974, total=   0.2s\n",
      "[CV] criterion=entropy, max_depth=4, max_features=log2, n_estimators=200 \n",
      "[CV]  criterion=entropy, max_depth=4, max_features=log2, n_estimators=200, score=0.921, total=   0.2s\n",
      "[CV] criterion=entropy, max_depth=4, max_features=log2, n_estimators=200 \n",
      "[CV]  criterion=entropy, max_depth=4, max_features=log2, n_estimators=200, score=0.921, total=   0.2s\n",
      "[CV] criterion=entropy, max_depth=4, max_features=log2, n_estimators=200 \n",
      "[CV]  criterion=entropy, max_depth=4, max_features=log2, n_estimators=200, score=0.921, total=   0.2s\n",
      "[CV] criterion=entropy, max_depth=4, max_features=log2, n_estimators=200 \n",
      "[CV]  criterion=entropy, max_depth=4, max_features=log2, n_estimators=200, score=0.908, total=   0.3s\n",
      "[CV] criterion=entropy, max_depth=4, max_features=log2, n_estimators=500 \n",
      "[CV]  criterion=entropy, max_depth=4, max_features=log2, n_estimators=500, score=0.974, total=   0.6s\n",
      "[CV] criterion=entropy, max_depth=4, max_features=log2, n_estimators=500 \n",
      "[CV]  criterion=entropy, max_depth=4, max_features=log2, n_estimators=500, score=0.934, total=   0.6s\n",
      "[CV] criterion=entropy, max_depth=4, max_features=log2, n_estimators=500 \n",
      "[CV]  criterion=entropy, max_depth=4, max_features=log2, n_estimators=500, score=0.908, total=   0.7s\n",
      "[CV] criterion=entropy, max_depth=4, max_features=log2, n_estimators=500 \n",
      "[CV]  criterion=entropy, max_depth=4, max_features=log2, n_estimators=500, score=0.921, total=   0.7s\n",
      "[CV] criterion=entropy, max_depth=4, max_features=log2, n_estimators=500 \n",
      "[CV]  criterion=entropy, max_depth=4, max_features=log2, n_estimators=500, score=0.908, total=   0.6s\n",
      "[CV] criterion=entropy, max_depth=5, max_features=auto, n_estimators=200 \n",
      "[CV]  criterion=entropy, max_depth=5, max_features=auto, n_estimators=200, score=0.974, total=   0.3s\n",
      "[CV] criterion=entropy, max_depth=5, max_features=auto, n_estimators=200 \n",
      "[CV]  criterion=entropy, max_depth=5, max_features=auto, n_estimators=200, score=0.934, total=   0.3s\n",
      "[CV] criterion=entropy, max_depth=5, max_features=auto, n_estimators=200 \n",
      "[CV]  criterion=entropy, max_depth=5, max_features=auto, n_estimators=200, score=0.908, total=   0.3s\n",
      "[CV] criterion=entropy, max_depth=5, max_features=auto, n_estimators=200 \n",
      "[CV]  criterion=entropy, max_depth=5, max_features=auto, n_estimators=200, score=0.921, total=   0.3s\n",
      "[CV] criterion=entropy, max_depth=5, max_features=auto, n_estimators=200 \n",
      "[CV]  criterion=entropy, max_depth=5, max_features=auto, n_estimators=200, score=0.908, total=   0.3s\n",
      "[CV] criterion=entropy, max_depth=5, max_features=auto, n_estimators=500 \n",
      "[CV]  criterion=entropy, max_depth=5, max_features=auto, n_estimators=500, score=0.974, total=   0.6s\n",
      "[CV] criterion=entropy, max_depth=5, max_features=auto, n_estimators=500 \n",
      "[CV]  criterion=entropy, max_depth=5, max_features=auto, n_estimators=500, score=0.947, total=   0.7s\n",
      "[CV] criterion=entropy, max_depth=5, max_features=auto, n_estimators=500 \n",
      "[CV]  criterion=entropy, max_depth=5, max_features=auto, n_estimators=500, score=0.921, total=   0.6s\n",
      "[CV] criterion=entropy, max_depth=5, max_features=auto, n_estimators=500 \n",
      "[CV]  criterion=entropy, max_depth=5, max_features=auto, n_estimators=500, score=0.921, total=   0.7s\n",
      "[CV] criterion=entropy, max_depth=5, max_features=auto, n_estimators=500 \n",
      "[CV]  criterion=entropy, max_depth=5, max_features=auto, n_estimators=500, score=0.921, total=   0.7s\n",
      "[CV] criterion=entropy, max_depth=5, max_features=sqrt, n_estimators=200 \n",
      "[CV]  criterion=entropy, max_depth=5, max_features=sqrt, n_estimators=200, score=0.974, total=   0.3s\n",
      "[CV] criterion=entropy, max_depth=5, max_features=sqrt, n_estimators=200 \n",
      "[CV]  criterion=entropy, max_depth=5, max_features=sqrt, n_estimators=200, score=0.934, total=   0.3s\n",
      "[CV] criterion=entropy, max_depth=5, max_features=sqrt, n_estimators=200 \n",
      "[CV]  criterion=entropy, max_depth=5, max_features=sqrt, n_estimators=200, score=0.908, total=   0.3s\n",
      "[CV] criterion=entropy, max_depth=5, max_features=sqrt, n_estimators=200 \n",
      "[CV]  criterion=entropy, max_depth=5, max_features=sqrt, n_estimators=200, score=0.921, total=   0.3s\n",
      "[CV] criterion=entropy, max_depth=5, max_features=sqrt, n_estimators=200 \n",
      "[CV]  criterion=entropy, max_depth=5, max_features=sqrt, n_estimators=200, score=0.908, total=   0.3s\n",
      "[CV] criterion=entropy, max_depth=5, max_features=sqrt, n_estimators=500 \n",
      "[CV]  criterion=entropy, max_depth=5, max_features=sqrt, n_estimators=500, score=0.974, total=   0.7s\n",
      "[CV] criterion=entropy, max_depth=5, max_features=sqrt, n_estimators=500 \n",
      "[CV]  criterion=entropy, max_depth=5, max_features=sqrt, n_estimators=500, score=0.934, total=   0.7s\n",
      "[CV] criterion=entropy, max_depth=5, max_features=sqrt, n_estimators=500 \n",
      "[CV]  criterion=entropy, max_depth=5, max_features=sqrt, n_estimators=500, score=0.908, total=   0.7s\n",
      "[CV] criterion=entropy, max_depth=5, max_features=sqrt, n_estimators=500 \n",
      "[CV]  criterion=entropy, max_depth=5, max_features=sqrt, n_estimators=500, score=0.921, total=   0.7s\n",
      "[CV] criterion=entropy, max_depth=5, max_features=sqrt, n_estimators=500 \n",
      "[CV]  criterion=entropy, max_depth=5, max_features=sqrt, n_estimators=500, score=0.908, total=   0.7s\n",
      "[CV] criterion=entropy, max_depth=5, max_features=log2, n_estimators=200 \n",
      "[CV]  criterion=entropy, max_depth=5, max_features=log2, n_estimators=200, score=0.961, total=   0.3s\n",
      "[CV] criterion=entropy, max_depth=5, max_features=log2, n_estimators=200 \n",
      "[CV]  criterion=entropy, max_depth=5, max_features=log2, n_estimators=200, score=0.947, total=   0.3s\n",
      "[CV] criterion=entropy, max_depth=5, max_features=log2, n_estimators=200 \n",
      "[CV]  criterion=entropy, max_depth=5, max_features=log2, n_estimators=200, score=0.921, total=   0.3s\n",
      "[CV] criterion=entropy, max_depth=5, max_features=log2, n_estimators=200 \n",
      "[CV]  criterion=entropy, max_depth=5, max_features=log2, n_estimators=200, score=0.921, total=   0.3s\n",
      "[CV] criterion=entropy, max_depth=5, max_features=log2, n_estimators=200 \n",
      "[CV]  criterion=entropy, max_depth=5, max_features=log2, n_estimators=200, score=0.908, total=   0.3s\n",
      "[CV] criterion=entropy, max_depth=5, max_features=log2, n_estimators=500 \n",
      "[CV]  criterion=entropy, max_depth=5, max_features=log2, n_estimators=500, score=0.974, total=   0.7s\n",
      "[CV] criterion=entropy, max_depth=5, max_features=log2, n_estimators=500 \n",
      "[CV]  criterion=entropy, max_depth=5, max_features=log2, n_estimators=500, score=0.934, total=   0.7s\n",
      "[CV] criterion=entropy, max_depth=5, max_features=log2, n_estimators=500 \n",
      "[CV]  criterion=entropy, max_depth=5, max_features=log2, n_estimators=500, score=0.921, total=   0.7s\n",
      "[CV] criterion=entropy, max_depth=5, max_features=log2, n_estimators=500 \n",
      "[CV]  criterion=entropy, max_depth=5, max_features=log2, n_estimators=500, score=0.921, total=   0.6s\n",
      "[CV] criterion=entropy, max_depth=5, max_features=log2, n_estimators=500 \n",
      "[CV]  criterion=entropy, max_depth=5, max_features=log2, n_estimators=500, score=0.908, total=   0.6s\n",
      "[CV] criterion=entropy, max_depth=6, max_features=auto, n_estimators=200 \n",
      "[CV]  criterion=entropy, max_depth=6, max_features=auto, n_estimators=200, score=0.961, total=   0.3s\n",
      "[CV] criterion=entropy, max_depth=6, max_features=auto, n_estimators=200 \n",
      "[CV]  criterion=entropy, max_depth=6, max_features=auto, n_estimators=200, score=0.947, total=   0.3s\n",
      "[CV] criterion=entropy, max_depth=6, max_features=auto, n_estimators=200 \n",
      "[CV]  criterion=entropy, max_depth=6, max_features=auto, n_estimators=200, score=0.908, total=   0.3s\n",
      "[CV] criterion=entropy, max_depth=6, max_features=auto, n_estimators=200 \n",
      "[CV]  criterion=entropy, max_depth=6, max_features=auto, n_estimators=200, score=0.921, total=   0.4s\n",
      "[CV] criterion=entropy, max_depth=6, max_features=auto, n_estimators=200 \n",
      "[CV]  criterion=entropy, max_depth=6, max_features=auto, n_estimators=200, score=0.934, total=   0.3s\n",
      "[CV] criterion=entropy, max_depth=6, max_features=auto, n_estimators=500 \n",
      "[CV]  criterion=entropy, max_depth=6, max_features=auto, n_estimators=500, score=0.974, total=   0.8s\n",
      "[CV] criterion=entropy, max_depth=6, max_features=auto, n_estimators=500 \n",
      "[CV]  criterion=entropy, max_depth=6, max_features=auto, n_estimators=500, score=0.934, total=   0.6s\n",
      "[CV] criterion=entropy, max_depth=6, max_features=auto, n_estimators=500 \n",
      "[CV]  criterion=entropy, max_depth=6, max_features=auto, n_estimators=500, score=0.908, total=   0.7s\n",
      "[CV] criterion=entropy, max_depth=6, max_features=auto, n_estimators=500 \n",
      "[CV]  criterion=entropy, max_depth=6, max_features=auto, n_estimators=500, score=0.921, total=   0.7s\n",
      "[CV] criterion=entropy, max_depth=6, max_features=auto, n_estimators=500 \n",
      "[CV]  criterion=entropy, max_depth=6, max_features=auto, n_estimators=500, score=0.947, total=   0.6s\n",
      "[CV] criterion=entropy, max_depth=6, max_features=sqrt, n_estimators=200 \n",
      "[CV]  criterion=entropy, max_depth=6, max_features=sqrt, n_estimators=200, score=0.961, total=   0.3s\n",
      "[CV] criterion=entropy, max_depth=6, max_features=sqrt, n_estimators=200 \n",
      "[CV]  criterion=entropy, max_depth=6, max_features=sqrt, n_estimators=200, score=0.921, total=   0.3s\n",
      "[CV] criterion=entropy, max_depth=6, max_features=sqrt, n_estimators=200 \n",
      "[CV]  criterion=entropy, max_depth=6, max_features=sqrt, n_estimators=200, score=0.895, total=   0.3s\n",
      "[CV] criterion=entropy, max_depth=6, max_features=sqrt, n_estimators=200 \n",
      "[CV]  criterion=entropy, max_depth=6, max_features=sqrt, n_estimators=200, score=0.921, total=   0.3s\n",
      "[CV] criterion=entropy, max_depth=6, max_features=sqrt, n_estimators=200 \n",
      "[CV]  criterion=entropy, max_depth=6, max_features=sqrt, n_estimators=200, score=0.947, total=   0.3s\n",
      "[CV] criterion=entropy, max_depth=6, max_features=sqrt, n_estimators=500 \n",
      "[CV]  criterion=entropy, max_depth=6, max_features=sqrt, n_estimators=500, score=0.961, total=   0.7s\n",
      "[CV] criterion=entropy, max_depth=6, max_features=sqrt, n_estimators=500 \n",
      "[CV]  criterion=entropy, max_depth=6, max_features=sqrt, n_estimators=500, score=0.947, total=   0.6s\n",
      "[CV] criterion=entropy, max_depth=6, max_features=sqrt, n_estimators=500 \n",
      "[CV]  criterion=entropy, max_depth=6, max_features=sqrt, n_estimators=500, score=0.908, total=   0.7s\n",
      "[CV] criterion=entropy, max_depth=6, max_features=sqrt, n_estimators=500 \n",
      "[CV]  criterion=entropy, max_depth=6, max_features=sqrt, n_estimators=500, score=0.921, total=   0.6s\n",
      "[CV] criterion=entropy, max_depth=6, max_features=sqrt, n_estimators=500 \n",
      "[CV]  criterion=entropy, max_depth=6, max_features=sqrt, n_estimators=500, score=0.947, total=   0.7s\n",
      "[CV] criterion=entropy, max_depth=6, max_features=log2, n_estimators=200 \n",
      "[CV]  criterion=entropy, max_depth=6, max_features=log2, n_estimators=200, score=0.961, total=   0.3s\n",
      "[CV] criterion=entropy, max_depth=6, max_features=log2, n_estimators=200 \n",
      "[CV]  criterion=entropy, max_depth=6, max_features=log2, n_estimators=200, score=0.934, total=   0.3s\n",
      "[CV] criterion=entropy, max_depth=6, max_features=log2, n_estimators=200 \n",
      "[CV]  criterion=entropy, max_depth=6, max_features=log2, n_estimators=200, score=0.895, total=   0.3s\n",
      "[CV] criterion=entropy, max_depth=6, max_features=log2, n_estimators=200 \n",
      "[CV]  criterion=entropy, max_depth=6, max_features=log2, n_estimators=200, score=0.921, total=   0.3s\n",
      "[CV] criterion=entropy, max_depth=6, max_features=log2, n_estimators=200 \n",
      "[CV]  criterion=entropy, max_depth=6, max_features=log2, n_estimators=200, score=0.921, total=   0.3s\n",
      "[CV] criterion=entropy, max_depth=6, max_features=log2, n_estimators=500 \n",
      "[CV]  criterion=entropy, max_depth=6, max_features=log2, n_estimators=500, score=0.974, total=   0.6s\n",
      "[CV] criterion=entropy, max_depth=6, max_features=log2, n_estimators=500 \n",
      "[CV]  criterion=entropy, max_depth=6, max_features=log2, n_estimators=500, score=0.934, total=   0.6s\n",
      "[CV] criterion=entropy, max_depth=6, max_features=log2, n_estimators=500 \n",
      "[CV]  criterion=entropy, max_depth=6, max_features=log2, n_estimators=500, score=0.895, total=   0.7s\n",
      "[CV] criterion=entropy, max_depth=6, max_features=log2, n_estimators=500 \n",
      "[CV]  criterion=entropy, max_depth=6, max_features=log2, n_estimators=500, score=0.921, total=   0.7s\n",
      "[CV] criterion=entropy, max_depth=6, max_features=log2, n_estimators=500 \n",
      "[CV]  criterion=entropy, max_depth=6, max_features=log2, n_estimators=500, score=0.934, total=   0.7s\n",
      "[CV] criterion=entropy, max_depth=7, max_features=auto, n_estimators=200 \n",
      "[CV]  criterion=entropy, max_depth=7, max_features=auto, n_estimators=200, score=0.935, total=   0.3s\n",
      "[CV] criterion=entropy, max_depth=7, max_features=auto, n_estimators=200 \n",
      "[CV]  criterion=entropy, max_depth=7, max_features=auto, n_estimators=200, score=0.934, total=   0.3s\n",
      "[CV] criterion=entropy, max_depth=7, max_features=auto, n_estimators=200 \n",
      "[CV]  criterion=entropy, max_depth=7, max_features=auto, n_estimators=200, score=0.908, total=   0.3s\n",
      "[CV] criterion=entropy, max_depth=7, max_features=auto, n_estimators=200 \n",
      "[CV]  criterion=entropy, max_depth=7, max_features=auto, n_estimators=200, score=0.921, total=   0.3s\n",
      "[CV] criterion=entropy, max_depth=7, max_features=auto, n_estimators=200 \n",
      "[CV]  criterion=entropy, max_depth=7, max_features=auto, n_estimators=200, score=0.934, total=   0.3s\n",
      "[CV] criterion=entropy, max_depth=7, max_features=auto, n_estimators=500 \n",
      "[CV]  criterion=entropy, max_depth=7, max_features=auto, n_estimators=500, score=0.961, total=   0.7s\n",
      "[CV] criterion=entropy, max_depth=7, max_features=auto, n_estimators=500 \n",
      "[CV]  criterion=entropy, max_depth=7, max_features=auto, n_estimators=500, score=0.921, total=   0.7s\n",
      "[CV] criterion=entropy, max_depth=7, max_features=auto, n_estimators=500 \n",
      "[CV]  criterion=entropy, max_depth=7, max_features=auto, n_estimators=500, score=0.908, total=   0.7s\n",
      "[CV] criterion=entropy, max_depth=7, max_features=auto, n_estimators=500 \n",
      "[CV]  criterion=entropy, max_depth=7, max_features=auto, n_estimators=500, score=0.921, total=   0.7s\n",
      "[CV] criterion=entropy, max_depth=7, max_features=auto, n_estimators=500 \n",
      "[CV]  criterion=entropy, max_depth=7, max_features=auto, n_estimators=500, score=0.947, total=   0.7s\n",
      "[CV] criterion=entropy, max_depth=7, max_features=sqrt, n_estimators=200 \n",
      "[CV]  criterion=entropy, max_depth=7, max_features=sqrt, n_estimators=200, score=0.961, total=   0.3s\n",
      "[CV] criterion=entropy, max_depth=7, max_features=sqrt, n_estimators=200 \n",
      "[CV]  criterion=entropy, max_depth=7, max_features=sqrt, n_estimators=200, score=0.934, total=   0.3s\n",
      "[CV] criterion=entropy, max_depth=7, max_features=sqrt, n_estimators=200 \n",
      "[CV]  criterion=entropy, max_depth=7, max_features=sqrt, n_estimators=200, score=0.908, total=   0.3s\n",
      "[CV] criterion=entropy, max_depth=7, max_features=sqrt, n_estimators=200 \n",
      "[CV]  criterion=entropy, max_depth=7, max_features=sqrt, n_estimators=200, score=0.921, total=   0.3s\n",
      "[CV] criterion=entropy, max_depth=7, max_features=sqrt, n_estimators=200 \n",
      "[CV]  criterion=entropy, max_depth=7, max_features=sqrt, n_estimators=200, score=0.947, total=   0.3s\n",
      "[CV] criterion=entropy, max_depth=7, max_features=sqrt, n_estimators=500 \n",
      "[CV]  criterion=entropy, max_depth=7, max_features=sqrt, n_estimators=500, score=0.961, total=   0.7s\n",
      "[CV] criterion=entropy, max_depth=7, max_features=sqrt, n_estimators=500 \n",
      "[CV]  criterion=entropy, max_depth=7, max_features=sqrt, n_estimators=500, score=0.921, total=   0.7s\n",
      "[CV] criterion=entropy, max_depth=7, max_features=sqrt, n_estimators=500 \n",
      "[CV]  criterion=entropy, max_depth=7, max_features=sqrt, n_estimators=500, score=0.908, total=   0.7s\n",
      "[CV] criterion=entropy, max_depth=7, max_features=sqrt, n_estimators=500 \n",
      "[CV]  criterion=entropy, max_depth=7, max_features=sqrt, n_estimators=500, score=0.921, total=   0.6s\n",
      "[CV] criterion=entropy, max_depth=7, max_features=sqrt, n_estimators=500 \n",
      "[CV]  criterion=entropy, max_depth=7, max_features=sqrt, n_estimators=500, score=0.947, total=   0.6s\n",
      "[CV] criterion=entropy, max_depth=7, max_features=log2, n_estimators=200 \n",
      "[CV]  criterion=entropy, max_depth=7, max_features=log2, n_estimators=200, score=0.961, total=   0.3s\n",
      "[CV] criterion=entropy, max_depth=7, max_features=log2, n_estimators=200 \n",
      "[CV]  criterion=entropy, max_depth=7, max_features=log2, n_estimators=200, score=0.947, total=   0.3s\n",
      "[CV] criterion=entropy, max_depth=7, max_features=log2, n_estimators=200 \n",
      "[CV]  criterion=entropy, max_depth=7, max_features=log2, n_estimators=200, score=0.908, total=   0.2s\n",
      "[CV] criterion=entropy, max_depth=7, max_features=log2, n_estimators=200 \n",
      "[CV]  criterion=entropy, max_depth=7, max_features=log2, n_estimators=200, score=0.921, total=   0.3s\n",
      "[CV] criterion=entropy, max_depth=7, max_features=log2, n_estimators=200 \n",
      "[CV]  criterion=entropy, max_depth=7, max_features=log2, n_estimators=200, score=0.947, total=   0.3s\n",
      "[CV] criterion=entropy, max_depth=7, max_features=log2, n_estimators=500 \n",
      "[CV]  criterion=entropy, max_depth=7, max_features=log2, n_estimators=500, score=0.974, total=   0.6s\n",
      "[CV] criterion=entropy, max_depth=7, max_features=log2, n_estimators=500 \n",
      "[CV]  criterion=entropy, max_depth=7, max_features=log2, n_estimators=500, score=0.934, total=   0.6s\n",
      "[CV] criterion=entropy, max_depth=7, max_features=log2, n_estimators=500 \n",
      "[CV]  criterion=entropy, max_depth=7, max_features=log2, n_estimators=500, score=0.908, total=   0.7s\n",
      "[CV] criterion=entropy, max_depth=7, max_features=log2, n_estimators=500 \n",
      "[CV]  criterion=entropy, max_depth=7, max_features=log2, n_estimators=500, score=0.921, total=   0.8s\n",
      "[CV] criterion=entropy, max_depth=7, max_features=log2, n_estimators=500 \n",
      "[CV]  criterion=entropy, max_depth=7, max_features=log2, n_estimators=500, score=0.934, total=   0.8s\n",
      "[CV] criterion=entropy, max_depth=8, max_features=auto, n_estimators=200 \n",
      "[CV]  criterion=entropy, max_depth=8, max_features=auto, n_estimators=200, score=0.948, total=   0.3s\n",
      "[CV] criterion=entropy, max_depth=8, max_features=auto, n_estimators=200 \n",
      "[CV]  criterion=entropy, max_depth=8, max_features=auto, n_estimators=200, score=0.921, total=   0.3s\n",
      "[CV] criterion=entropy, max_depth=8, max_features=auto, n_estimators=200 \n",
      "[CV]  criterion=entropy, max_depth=8, max_features=auto, n_estimators=200, score=0.908, total=   0.3s\n",
      "[CV] criterion=entropy, max_depth=8, max_features=auto, n_estimators=200 \n",
      "[CV]  criterion=entropy, max_depth=8, max_features=auto, n_estimators=200, score=0.921, total=   0.3s\n",
      "[CV] criterion=entropy, max_depth=8, max_features=auto, n_estimators=200 \n",
      "[CV]  criterion=entropy, max_depth=8, max_features=auto, n_estimators=200, score=0.947, total=   0.3s\n",
      "[CV] criterion=entropy, max_depth=8, max_features=auto, n_estimators=500 \n",
      "[CV]  criterion=entropy, max_depth=8, max_features=auto, n_estimators=500, score=0.961, total=   0.7s\n",
      "[CV] criterion=entropy, max_depth=8, max_features=auto, n_estimators=500 \n",
      "[CV]  criterion=entropy, max_depth=8, max_features=auto, n_estimators=500, score=0.921, total=   0.7s\n",
      "[CV] criterion=entropy, max_depth=8, max_features=auto, n_estimators=500 \n",
      "[CV]  criterion=entropy, max_depth=8, max_features=auto, n_estimators=500, score=0.908, total=   0.8s\n",
      "[CV] criterion=entropy, max_depth=8, max_features=auto, n_estimators=500 \n",
      "[CV]  criterion=entropy, max_depth=8, max_features=auto, n_estimators=500, score=0.921, total=   0.7s\n",
      "[CV] criterion=entropy, max_depth=8, max_features=auto, n_estimators=500 \n",
      "[CV]  criterion=entropy, max_depth=8, max_features=auto, n_estimators=500, score=0.947, total=   0.8s\n",
      "[CV] criterion=entropy, max_depth=8, max_features=sqrt, n_estimators=200 \n",
      "[CV]  criterion=entropy, max_depth=8, max_features=sqrt, n_estimators=200, score=0.974, total=   0.3s\n",
      "[CV] criterion=entropy, max_depth=8, max_features=sqrt, n_estimators=200 \n",
      "[CV]  criterion=entropy, max_depth=8, max_features=sqrt, n_estimators=200, score=0.921, total=   0.3s\n",
      "[CV] criterion=entropy, max_depth=8, max_features=sqrt, n_estimators=200 \n",
      "[CV]  criterion=entropy, max_depth=8, max_features=sqrt, n_estimators=200, score=0.908, total=   0.3s\n",
      "[CV] criterion=entropy, max_depth=8, max_features=sqrt, n_estimators=200 \n",
      "[CV]  criterion=entropy, max_depth=8, max_features=sqrt, n_estimators=200, score=0.921, total=   0.3s\n",
      "[CV] criterion=entropy, max_depth=8, max_features=sqrt, n_estimators=200 \n",
      "[CV]  criterion=entropy, max_depth=8, max_features=sqrt, n_estimators=200, score=0.961, total=   0.3s\n",
      "[CV] criterion=entropy, max_depth=8, max_features=sqrt, n_estimators=500 \n",
      "[CV]  criterion=entropy, max_depth=8, max_features=sqrt, n_estimators=500, score=0.948, total=   0.7s\n",
      "[CV] criterion=entropy, max_depth=8, max_features=sqrt, n_estimators=500 \n",
      "[CV]  criterion=entropy, max_depth=8, max_features=sqrt, n_estimators=500, score=0.934, total=   0.8s\n",
      "[CV] criterion=entropy, max_depth=8, max_features=sqrt, n_estimators=500 \n",
      "[CV]  criterion=entropy, max_depth=8, max_features=sqrt, n_estimators=500, score=0.908, total=   0.7s\n",
      "[CV] criterion=entropy, max_depth=8, max_features=sqrt, n_estimators=500 \n",
      "[CV]  criterion=entropy, max_depth=8, max_features=sqrt, n_estimators=500, score=0.921, total=   0.7s\n",
      "[CV] criterion=entropy, max_depth=8, max_features=sqrt, n_estimators=500 \n",
      "[CV]  criterion=entropy, max_depth=8, max_features=sqrt, n_estimators=500, score=0.947, total=   0.7s\n",
      "[CV] criterion=entropy, max_depth=8, max_features=log2, n_estimators=200 \n",
      "[CV]  criterion=entropy, max_depth=8, max_features=log2, n_estimators=200, score=0.974, total=   0.3s\n",
      "[CV] criterion=entropy, max_depth=8, max_features=log2, n_estimators=200 \n",
      "[CV]  criterion=entropy, max_depth=8, max_features=log2, n_estimators=200, score=0.947, total=   0.3s\n",
      "[CV] criterion=entropy, max_depth=8, max_features=log2, n_estimators=200 \n",
      "[CV]  criterion=entropy, max_depth=8, max_features=log2, n_estimators=200, score=0.908, total=   0.3s\n",
      "[CV] criterion=entropy, max_depth=8, max_features=log2, n_estimators=200 \n",
      "[CV]  criterion=entropy, max_depth=8, max_features=log2, n_estimators=200, score=0.921, total=   0.3s\n",
      "[CV] criterion=entropy, max_depth=8, max_features=log2, n_estimators=200 \n",
      "[CV]  criterion=entropy, max_depth=8, max_features=log2, n_estimators=200, score=0.934, total=   0.3s\n",
      "[CV] criterion=entropy, max_depth=8, max_features=log2, n_estimators=500 \n",
      "[CV]  criterion=entropy, max_depth=8, max_features=log2, n_estimators=500, score=0.974, total=   0.7s\n",
      "[CV] criterion=entropy, max_depth=8, max_features=log2, n_estimators=500 \n",
      "[CV]  criterion=entropy, max_depth=8, max_features=log2, n_estimators=500, score=0.921, total=   0.7s\n",
      "[CV] criterion=entropy, max_depth=8, max_features=log2, n_estimators=500 \n",
      "[CV]  criterion=entropy, max_depth=8, max_features=log2, n_estimators=500, score=0.895, total=   0.7s\n",
      "[CV] criterion=entropy, max_depth=8, max_features=log2, n_estimators=500 \n",
      "[CV]  criterion=entropy, max_depth=8, max_features=log2, n_estimators=500, score=0.921, total=   0.7s\n",
      "[CV] criterion=entropy, max_depth=8, max_features=log2, n_estimators=500 \n",
      "[CV]  criterion=entropy, max_depth=8, max_features=log2, n_estimators=500, score=0.947, total=   0.7s\n"
     ]
    },
    {
     "name": "stderr",
     "output_type": "stream",
     "text": [
      "[Parallel(n_jobs=1)]: Done 300 out of 300 | elapsed:  2.3min finished\n"
     ]
    },
    {
     "data": {
      "text/plain": [
       "GridSearchCV(cv=None, error_score=nan,\n",
       "             estimator=RandomForestClassifier(bootstrap=True, ccp_alpha=0.0,\n",
       "                                              class_weight=None,\n",
       "                                              criterion='gini', max_depth=None,\n",
       "                                              max_features='auto',\n",
       "                                              max_leaf_nodes=None,\n",
       "                                              max_samples=None,\n",
       "                                              min_impurity_decrease=0.0,\n",
       "                                              min_impurity_split=None,\n",
       "                                              min_samples_leaf=1,\n",
       "                                              min_samples_split=2,\n",
       "                                              min_weight_fraction_leaf=0.0,\n",
       "                                              n_estimators=200, n_jobs=None,\n",
       "                                              oob_score=False,\n",
       "                                              random_state=None, verbose=0,\n",
       "                                              warm_start=False),\n",
       "             iid='deprecated', n_jobs=None,\n",
       "             param_grid={'criterion': ['gini', 'entropy'],\n",
       "                         'max_depth': [4, 5, 6, 7, 8],\n",
       "                         'max_features': ['auto', 'sqrt', 'log2'],\n",
       "                         'n_estimators': [200, 500]},\n",
       "             pre_dispatch='2*n_jobs', refit=True, return_train_score=False,\n",
       "             scoring=None, verbose=3)"
      ]
     },
     "execution_count": 115,
     "metadata": {},
     "output_type": "execute_result"
    }
   ],
   "source": [
    "gscv.fit(X_train,y_train)"
   ]
  },
  {
   "cell_type": "code",
   "execution_count": 117,
   "metadata": {},
   "outputs": [
    {
     "data": {
      "text/plain": [
       "{'criterion': 'gini',\n",
       " 'max_depth': 5,\n",
       " 'max_features': 'sqrt',\n",
       " 'n_estimators': 500}"
      ]
     },
     "execution_count": 117,
     "metadata": {},
     "output_type": "execute_result"
    }
   ],
   "source": [
    "gscv.best_params_"
   ]
  },
  {
   "cell_type": "code",
   "execution_count": 119,
   "metadata": {},
   "outputs": [],
   "source": [
    "rcrbest=RandomForestClassifier(criterion='gini',max_depth=5,max_features='sqrt',n_estimators=500)"
   ]
  },
  {
   "cell_type": "code",
   "execution_count": 120,
   "metadata": {},
   "outputs": [
    {
     "data": {
      "text/plain": [
       "RandomForestClassifier(bootstrap=True, ccp_alpha=0.0, class_weight=None,\n",
       "                       criterion='gini', max_depth=5, max_features='sqrt',\n",
       "                       max_leaf_nodes=None, max_samples=None,\n",
       "                       min_impurity_decrease=0.0, min_impurity_split=None,\n",
       "                       min_samples_leaf=1, min_samples_split=2,\n",
       "                       min_weight_fraction_leaf=0.0, n_estimators=500,\n",
       "                       n_jobs=None, oob_score=False, random_state=None,\n",
       "                       verbose=0, warm_start=False)"
      ]
     },
     "execution_count": 120,
     "metadata": {},
     "output_type": "execute_result"
    }
   ],
   "source": [
    "rcrbest.fit(X_train,y_train)"
   ]
  },
  {
   "cell_type": "code",
   "execution_count": 122,
   "metadata": {},
   "outputs": [],
   "source": [
    "pred_best=rcrbest.predict(X_test)"
   ]
  },
  {
   "cell_type": "code",
   "execution_count": 123,
   "metadata": {},
   "outputs": [
    {
     "name": "stdout",
     "output_type": "stream",
     "text": [
      "              precision    recall  f1-score   support\n",
      "\n",
      "           0       0.94      0.90      0.92        70\n",
      "           1       0.94      0.97      0.95       118\n",
      "\n",
      "    accuracy                           0.94       188\n",
      "   macro avg       0.94      0.93      0.94       188\n",
      "weighted avg       0.94      0.94      0.94       188\n",
      "\n"
     ]
    }
   ],
   "source": [
    "print(classification_report(pred_best,y_test))"
   ]
  },
  {
   "cell_type": "code",
   "execution_count": 124,
   "metadata": {},
   "outputs": [
    {
     "name": "stdout",
     "output_type": "stream",
     "text": [
      "[[ 63   7]\n",
      " [  4 114]]\n"
     ]
    }
   ],
   "source": [
    "print(confusion_matrix(pred_best,y_test))"
   ]
  }
 ],
 "metadata": {
  "kernelspec": {
   "display_name": "Python 3",
   "language": "python",
   "name": "python3"
  },
  "language_info": {
   "codemirror_mode": {
    "name": "ipython",
    "version": 3
   },
   "file_extension": ".py",
   "mimetype": "text/x-python",
   "name": "python",
   "nbconvert_exporter": "python",
   "pygments_lexer": "ipython3",
   "version": "3.7.6"
  }
 },
 "nbformat": 4,
 "nbformat_minor": 4
}
